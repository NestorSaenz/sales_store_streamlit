{
  "cells": [
    {
      "cell_type": "markdown",
      "metadata": {
        "id": "_Vevz6MGruh_"
      },
      "source": [
        "# **PROBLEMA DE NEGOCIO**\n",
        "\n",
        "\n",
        "---\n",
        "\n",
        "\n"
      ]
    },
    {
      "cell_type": "markdown",
      "metadata": {
        "id": "I879QRj7i8ab"
      },
      "source": [
        "### Una tienda online de moda, con presencia en todo Brasil, necesita impulsar su rendimiento utilizando sus datos de manera estratégica. Como científico de datos, has sido convocado para analizar estos datos y ofrecer insights que guíen sus decisiones y respondan a las siguientes preguntas clave:"
      ]
    },
    {
      "cell_type": "markdown",
      "metadata": {
        "id": "8gq88Mm5mNlU"
      },
      "source": [
        "### **Preguntas**\n",
        "\n",
        "1. ¿Cual es el Top 5 productos más vendidos históricamente?\n",
        "\n",
        "2. ¿Cual es la evolución histórica de las ingresos netos?\n",
        "\n",
        "3. ¿Cuáles son los ingresos netos por vendedor por año?\n",
        "\n",
        "4. ¿Cuáles son las ciudades que proporcionan mayores ingresos netos?\n",
        "\n",
        "5. ¿Existe otro insight que puedas proporcionar?"
      ]
    },
    {
      "cell_type": "markdown",
      "metadata": {
        "id": "1jUHpF5smRvN"
      },
      "source": [
        "### **1. Configuración del Ambiente**\n",
        "\n",
        "\n",
        "---\n",
        "\n",
        "\n"
      ]
    },
    {
      "cell_type": "code",
      "execution_count": 116,
      "metadata": {
        "id": "6LQQAaHMpVGz"
      },
      "outputs": [],
      "source": [
        "import pandas as pd\n",
        "import matplotlib.pyplot as plt"
      ]
    },
    {
      "cell_type": "markdown",
      "metadata": {
        "id": "5lQO7FHssJhr"
      },
      "source": [
        "### **2. Obtención, Tratamiento y Análisis Exploratório (EDA)**\n",
        "\n",
        "\n",
        "---\n",
        "\n",
        "\n"
      ]
    },
    {
      "cell_type": "markdown",
      "metadata": {
        "id": "MdQXCMggsM0m"
      },
      "source": [
        "#### **2.1 Cargando las bases de datos**"
      ]
    },
    {
      "cell_type": "markdown",
      "metadata": {},
      "source": [
        "Base de datos con el detalle de los pedidos"
      ]
    },
    {
      "cell_type": "code",
      "execution_count": 117,
      "metadata": {
        "colab": {
          "base_uri": "https://localhost:8080/",
          "height": 206
        },
        "id": "x19qgbjpsKJx",
        "outputId": "340a64dc-a6a7-4f1b-a1b3-e6bdf87bfc60"
      },
      "outputs": [
        {
          "data": {
            "text/html": [
              "<div>\n",
              "<style scoped>\n",
              "    .dataframe tbody tr th:only-of-type {\n",
              "        vertical-align: middle;\n",
              "    }\n",
              "\n",
              "    .dataframe tbody tr th {\n",
              "        vertical-align: top;\n",
              "    }\n",
              "\n",
              "    .dataframe thead th {\n",
              "        text-align: right;\n",
              "    }\n",
              "</style>\n",
              "<table border=\"1\" class=\"dataframe\">\n",
              "  <thead>\n",
              "    <tr style=\"text-align: right;\">\n",
              "      <th></th>\n",
              "      <th>id_recibo</th>\n",
              "      <th>producto_id</th>\n",
              "      <th>pedido_id</th>\n",
              "      <th>cantidad</th>\n",
              "      <th>valor_unitario</th>\n",
              "      <th>valor_total</th>\n",
              "      <th>ciudad</th>\n",
              "      <th>costo_envio</th>\n",
              "    </tr>\n",
              "  </thead>\n",
              "  <tbody>\n",
              "    <tr>\n",
              "      <th>0</th>\n",
              "      <td>1</td>\n",
              "      <td>41518</td>\n",
              "      <td>341</td>\n",
              "      <td>3</td>\n",
              "      <td>260</td>\n",
              "      <td>780</td>\n",
              "      <td>BR-BA</td>\n",
              "      <td>156.0</td>\n",
              "    </tr>\n",
              "    <tr>\n",
              "      <th>1</th>\n",
              "      <td>2</td>\n",
              "      <td>4307</td>\n",
              "      <td>1174</td>\n",
              "      <td>5</td>\n",
              "      <td>6175</td>\n",
              "      <td>30875</td>\n",
              "      <td>BR-RJ</td>\n",
              "      <td>6175.0</td>\n",
              "    </tr>\n",
              "    <tr>\n",
              "      <th>2</th>\n",
              "      <td>3</td>\n",
              "      <td>22407</td>\n",
              "      <td>1399</td>\n",
              "      <td>3</td>\n",
              "      <td>200</td>\n",
              "      <td>600</td>\n",
              "      <td>BR-PB</td>\n",
              "      <td>120.0</td>\n",
              "    </tr>\n",
              "    <tr>\n",
              "      <th>3</th>\n",
              "      <td>4</td>\n",
              "      <td>3820</td>\n",
              "      <td>1652</td>\n",
              "      <td>6</td>\n",
              "      <td>139</td>\n",
              "      <td>834</td>\n",
              "      <td>BR-DF</td>\n",
              "      <td>166.8</td>\n",
              "    </tr>\n",
              "    <tr>\n",
              "      <th>4</th>\n",
              "      <td>5</td>\n",
              "      <td>29012</td>\n",
              "      <td>2470</td>\n",
              "      <td>3</td>\n",
              "      <td>525</td>\n",
              "      <td>1575</td>\n",
              "      <td>BR-BA</td>\n",
              "      <td>315.0</td>\n",
              "    </tr>\n",
              "  </tbody>\n",
              "</table>\n",
              "</div>"
            ],
            "text/plain": [
              "   id_recibo  producto_id  pedido_id  cantidad  valor_unitario  valor_total  \\\n",
              "0          1        41518        341         3             260          780   \n",
              "1          2         4307       1174         5            6175        30875   \n",
              "2          3        22407       1399         3             200          600   \n",
              "3          4         3820       1652         6             139          834   \n",
              "4          5        29012       2470         3             525         1575   \n",
              "\n",
              "  ciudad  costo_envio  \n",
              "0  BR-BA        156.0  \n",
              "1  BR-RJ       6175.0  \n",
              "2  BR-PB        120.0  \n",
              "3  BR-DF        166.8  \n",
              "4  BR-BA        315.0  "
            ]
          },
          "execution_count": 117,
          "metadata": {},
          "output_type": "execute_result"
        }
      ],
      "source": [
        "df_itens_pedidos = pd.read_csv('https://raw.githubusercontent.com/ElProfeAlejo/Bootcamp_Databases/main/itens_pedidos.csv')\n",
        "df_itens_pedidos.head()"
      ]
    },
    {
      "cell_type": "code",
      "execution_count": 118,
      "metadata": {},
      "outputs": [
        {
          "name": "stdout",
          "output_type": "stream",
          "text": [
            "<class 'pandas.core.frame.DataFrame'>\n",
            "RangeIndex: 24527 entries, 0 to 24526\n",
            "Data columns (total 8 columns):\n",
            " #   Column          Non-Null Count  Dtype  \n",
            "---  ------          --------------  -----  \n",
            " 0   id_recibo       24527 non-null  int64  \n",
            " 1   producto_id     24527 non-null  int64  \n",
            " 2   pedido_id       24527 non-null  int64  \n",
            " 3   cantidad        24527 non-null  int64  \n",
            " 4   valor_unitario  24527 non-null  int64  \n",
            " 5   valor_total     24527 non-null  int64  \n",
            " 6   ciudad          24527 non-null  object \n",
            " 7   costo_envio     24527 non-null  float64\n",
            "dtypes: float64(1), int64(6), object(1)\n",
            "memory usage: 1.5+ MB\n"
          ]
        }
      ],
      "source": [
        "df_itens_pedidos.info()"
      ]
    },
    {
      "cell_type": "markdown",
      "metadata": {},
      "source": [
        "se verifican duplicados"
      ]
    },
    {
      "cell_type": "code",
      "execution_count": 119,
      "metadata": {},
      "outputs": [
        {
          "data": {
            "text/plain": [
              "id_recibo         0\n",
              "producto_id       0\n",
              "pedido_id         0\n",
              "cantidad          0\n",
              "valor_unitario    0\n",
              "valor_total       0\n",
              "ciudad            0\n",
              "costo_envio       0\n",
              "dtype: int64"
            ]
          },
          "execution_count": 119,
          "metadata": {},
          "output_type": "execute_result"
        }
      ],
      "source": [
        "df_itens_pedidos.isna().sum()"
      ]
    },
    {
      "cell_type": "markdown",
      "metadata": {},
      "source": [
        "Base de datos general de los pedidos"
      ]
    },
    {
      "cell_type": "code",
      "execution_count": 120,
      "metadata": {
        "colab": {
          "base_uri": "https://localhost:8080/",
          "height": 206
        },
        "id": "VpUPaj5ktEy6",
        "outputId": "054557bd-d96c-4df2-e74f-646501a8cc6f"
      },
      "outputs": [
        {
          "data": {
            "text/html": [
              "<div>\n",
              "<style scoped>\n",
              "    .dataframe tbody tr th:only-of-type {\n",
              "        vertical-align: middle;\n",
              "    }\n",
              "\n",
              "    .dataframe tbody tr th {\n",
              "        vertical-align: top;\n",
              "    }\n",
              "\n",
              "    .dataframe thead th {\n",
              "        text-align: right;\n",
              "    }\n",
              "</style>\n",
              "<table border=\"1\" class=\"dataframe\">\n",
              "  <thead>\n",
              "    <tr style=\"text-align: right;\">\n",
              "      <th></th>\n",
              "      <th>pedido_id</th>\n",
              "      <th>producto_id</th>\n",
              "      <th>vendedor_id</th>\n",
              "      <th>fecha_compra</th>\n",
              "      <th>total</th>\n",
              "    </tr>\n",
              "  </thead>\n",
              "  <tbody>\n",
              "    <tr>\n",
              "      <th>0</th>\n",
              "      <td>341</td>\n",
              "      <td>41518</td>\n",
              "      <td>6</td>\n",
              "      <td>2019-01-05</td>\n",
              "      <td>780</td>\n",
              "    </tr>\n",
              "    <tr>\n",
              "      <th>1</th>\n",
              "      <td>1174</td>\n",
              "      <td>4307</td>\n",
              "      <td>3</td>\n",
              "      <td>2019-01-05</td>\n",
              "      <td>30875</td>\n",
              "    </tr>\n",
              "    <tr>\n",
              "      <th>2</th>\n",
              "      <td>1399</td>\n",
              "      <td>22407</td>\n",
              "      <td>1</td>\n",
              "      <td>2019-01-05</td>\n",
              "      <td>600</td>\n",
              "    </tr>\n",
              "    <tr>\n",
              "      <th>3</th>\n",
              "      <td>1652</td>\n",
              "      <td>3820</td>\n",
              "      <td>4</td>\n",
              "      <td>2019-01-05</td>\n",
              "      <td>834</td>\n",
              "    </tr>\n",
              "    <tr>\n",
              "      <th>4</th>\n",
              "      <td>2470</td>\n",
              "      <td>29012</td>\n",
              "      <td>2</td>\n",
              "      <td>2019-01-05</td>\n",
              "      <td>1575</td>\n",
              "    </tr>\n",
              "  </tbody>\n",
              "</table>\n",
              "</div>"
            ],
            "text/plain": [
              "   pedido_id  producto_id  vendedor_id fecha_compra  total\n",
              "0        341        41518            6   2019-01-05    780\n",
              "1       1174         4307            3   2019-01-05  30875\n",
              "2       1399        22407            1   2019-01-05    600\n",
              "3       1652         3820            4   2019-01-05    834\n",
              "4       2470        29012            2   2019-01-05   1575"
            ]
          },
          "execution_count": 120,
          "metadata": {},
          "output_type": "execute_result"
        }
      ],
      "source": [
        "df_pedidos = pd.read_csv('https://raw.githubusercontent.com/ElProfeAlejo/Bootcamp_Databases/main/pedidos.csv')\n",
        "df_pedidos.head()"
      ]
    },
    {
      "cell_type": "code",
      "execution_count": 121,
      "metadata": {},
      "outputs": [
        {
          "name": "stdout",
          "output_type": "stream",
          "text": [
            "<class 'pandas.core.frame.DataFrame'>\n",
            "RangeIndex: 24527 entries, 0 to 24526\n",
            "Data columns (total 5 columns):\n",
            " #   Column        Non-Null Count  Dtype \n",
            "---  ------        --------------  ----- \n",
            " 0   pedido_id     24527 non-null  int64 \n",
            " 1   producto_id   24527 non-null  int64 \n",
            " 2   vendedor_id   24527 non-null  int64 \n",
            " 3   fecha_compra  24527 non-null  object\n",
            " 4   total         24527 non-null  int64 \n",
            "dtypes: int64(4), object(1)\n",
            "memory usage: 958.2+ KB\n"
          ]
        }
      ],
      "source": [
        "df_pedidos.info()"
      ]
    },
    {
      "cell_type": "markdown",
      "metadata": {},
      "source": [
        "Se observa que el tipo de dato de la fecha de compra no es el correcto, se transforma en datetime"
      ]
    },
    {
      "cell_type": "code",
      "execution_count": 122,
      "metadata": {},
      "outputs": [],
      "source": [
        "df_pedidos['fecha_compra'] = pd.to_datetime(df_pedidos['fecha_compra'])"
      ]
    },
    {
      "cell_type": "markdown",
      "metadata": {},
      "source": [
        "Base de datos de los productos"
      ]
    },
    {
      "cell_type": "code",
      "execution_count": 123,
      "metadata": {
        "colab": {
          "base_uri": "https://localhost:8080/",
          "height": 206
        },
        "id": "JloX5KfQmSOC",
        "outputId": "b1bf23af-62be-410a-c65b-d39ce0b86b65"
      },
      "outputs": [
        {
          "data": {
            "text/html": [
              "<div>\n",
              "<style scoped>\n",
              "    .dataframe tbody tr th:only-of-type {\n",
              "        vertical-align: middle;\n",
              "    }\n",
              "\n",
              "    .dataframe tbody tr th {\n",
              "        vertical-align: top;\n",
              "    }\n",
              "\n",
              "    .dataframe thead th {\n",
              "        text-align: right;\n",
              "    }\n",
              "</style>\n",
              "<table border=\"1\" class=\"dataframe\">\n",
              "  <thead>\n",
              "    <tr style=\"text-align: right;\">\n",
              "      <th></th>\n",
              "      <th>producto_id</th>\n",
              "      <th>producto</th>\n",
              "      <th>precio</th>\n",
              "      <th>marca</th>\n",
              "      <th>sku</th>\n",
              "      <th>condicion</th>\n",
              "    </tr>\n",
              "  </thead>\n",
              "  <tbody>\n",
              "    <tr>\n",
              "      <th>0</th>\n",
              "      <td>21244</td>\n",
              "      <td>Oculos Lente Azulada</td>\n",
              "      <td>1120</td>\n",
              "      <td>D&amp;g Dolce &amp; Gabbana</td>\n",
              "      <td>209297.0</td>\n",
              "      <td>Usado</td>\n",
              "    </tr>\n",
              "    <tr>\n",
              "      <th>1</th>\n",
              "      <td>9981</td>\n",
              "      <td>Bolsa Coral Saco</td>\n",
              "      <td>4000</td>\n",
              "      <td>Givenchy</td>\n",
              "      <td>278612.0</td>\n",
              "      <td>Usado</td>\n",
              "    </tr>\n",
              "    <tr>\n",
              "      <th>2</th>\n",
              "      <td>84176</td>\n",
              "      <td>Camisa Xadrez Verde</td>\n",
              "      <td>310</td>\n",
              "      <td>Joe Fresh</td>\n",
              "      <td>322482.0</td>\n",
              "      <td>Usado</td>\n",
              "    </tr>\n",
              "    <tr>\n",
              "      <th>3</th>\n",
              "      <td>47475</td>\n",
              "      <td>Calca Alfaiataria Preta</td>\n",
              "      <td>490</td>\n",
              "      <td>Mixed</td>\n",
              "      <td>263658.0</td>\n",
              "      <td>Usado</td>\n",
              "    </tr>\n",
              "    <tr>\n",
              "      <th>4</th>\n",
              "      <td>74864</td>\n",
              "      <td>Vestido Jeans Babados</td>\n",
              "      <td>130</td>\n",
              "      <td>Zara</td>\n",
              "      <td>219248.0</td>\n",
              "      <td>Usado</td>\n",
              "    </tr>\n",
              "  </tbody>\n",
              "</table>\n",
              "</div>"
            ],
            "text/plain": [
              "   producto_id                 producto  precio                marca  \\\n",
              "0        21244     Oculos Lente Azulada    1120  D&g Dolce & Gabbana   \n",
              "1         9981         Bolsa Coral Saco    4000             Givenchy   \n",
              "2        84176      Camisa Xadrez Verde     310            Joe Fresh   \n",
              "3        47475  Calca Alfaiataria Preta     490                Mixed   \n",
              "4        74864    Vestido Jeans Babados     130                 Zara   \n",
              "\n",
              "        sku condicion  \n",
              "0  209297.0     Usado  \n",
              "1  278612.0     Usado  \n",
              "2  322482.0     Usado  \n",
              "3  263658.0     Usado  \n",
              "4  219248.0     Usado  "
            ]
          },
          "execution_count": 123,
          "metadata": {},
          "output_type": "execute_result"
        }
      ],
      "source": [
        "df_productos = pd.read_csv('https://raw.githubusercontent.com/ElProfeAlejo/Bootcamp_Databases/main/productos.csv')\n",
        "df_productos.head()"
      ]
    },
    {
      "cell_type": "code",
      "execution_count": 124,
      "metadata": {},
      "outputs": [
        {
          "name": "stdout",
          "output_type": "stream",
          "text": [
            "<class 'pandas.core.frame.DataFrame'>\n",
            "RangeIndex: 207 entries, 0 to 206\n",
            "Data columns (total 6 columns):\n",
            " #   Column       Non-Null Count  Dtype  \n",
            "---  ------       --------------  -----  \n",
            " 0   producto_id  207 non-null    int64  \n",
            " 1   producto     205 non-null    object \n",
            " 2   precio       207 non-null    int64  \n",
            " 3   marca        207 non-null    object \n",
            " 4   sku          205 non-null    float64\n",
            " 5   condicion    207 non-null    object \n",
            "dtypes: float64(1), int64(2), object(3)\n",
            "memory usage: 9.8+ KB\n"
          ]
        }
      ],
      "source": [
        "df_productos.info()"
      ]
    },
    {
      "cell_type": "markdown",
      "metadata": {},
      "source": [
        "se verifican cuales son los valores nulos"
      ]
    },
    {
      "cell_type": "code",
      "execution_count": 125,
      "metadata": {},
      "outputs": [
        {
          "data": {
            "text/html": [
              "<div>\n",
              "<style scoped>\n",
              "    .dataframe tbody tr th:only-of-type {\n",
              "        vertical-align: middle;\n",
              "    }\n",
              "\n",
              "    .dataframe tbody tr th {\n",
              "        vertical-align: top;\n",
              "    }\n",
              "\n",
              "    .dataframe thead th {\n",
              "        text-align: right;\n",
              "    }\n",
              "</style>\n",
              "<table border=\"1\" class=\"dataframe\">\n",
              "  <thead>\n",
              "    <tr style=\"text-align: right;\">\n",
              "      <th></th>\n",
              "      <th>producto_id</th>\n",
              "      <th>producto</th>\n",
              "      <th>precio</th>\n",
              "      <th>marca</th>\n",
              "      <th>sku</th>\n",
              "      <th>condicion</th>\n",
              "    </tr>\n",
              "  </thead>\n",
              "  <tbody>\n",
              "    <tr>\n",
              "      <th>205</th>\n",
              "      <td>41598</td>\n",
              "      <td>NaN</td>\n",
              "      <td>260</td>\n",
              "      <td>Banana Republic</td>\n",
              "      <td>NaN</td>\n",
              "      <td>Nuevo con etiqueta</td>\n",
              "    </tr>\n",
              "    <tr>\n",
              "      <th>206</th>\n",
              "      <td>32926</td>\n",
              "      <td>NaN</td>\n",
              "      <td>210</td>\n",
              "      <td>Limone By Jade Seba</td>\n",
              "      <td>NaN</td>\n",
              "      <td>Nuevo sin etiqueta</td>\n",
              "    </tr>\n",
              "  </tbody>\n",
              "</table>\n",
              "</div>"
            ],
            "text/plain": [
              "     producto_id producto  precio                marca  sku  \\\n",
              "205        41598      NaN     260      Banana Republic  NaN   \n",
              "206        32926      NaN     210  Limone By Jade Seba  NaN   \n",
              "\n",
              "              condicion  \n",
              "205  Nuevo con etiqueta  \n",
              "206  Nuevo sin etiqueta  "
            ]
          },
          "execution_count": 125,
          "metadata": {},
          "output_type": "execute_result"
        }
      ],
      "source": [
        "df_productos[df_productos.isna().any(axis=1)]"
      ]
    },
    {
      "cell_type": "markdown",
      "metadata": {},
      "source": [
        "se borran estos valores nulos"
      ]
    },
    {
      "cell_type": "code",
      "execution_count": 126,
      "metadata": {},
      "outputs": [],
      "source": [
        "df_productos.dropna(axis=0, inplace=True)"
      ]
    },
    {
      "cell_type": "markdown",
      "metadata": {},
      "source": [
        "Base de datos de los vendedores"
      ]
    },
    {
      "cell_type": "code",
      "execution_count": 127,
      "metadata": {
        "colab": {
          "base_uri": "https://localhost:8080/",
          "height": 206
        },
        "id": "qaB_aJ8YuaMf",
        "outputId": "581a092f-3558-4c5b-a4ba-5d1466250964"
      },
      "outputs": [
        {
          "data": {
            "text/html": [
              "<div>\n",
              "<style scoped>\n",
              "    .dataframe tbody tr th:only-of-type {\n",
              "        vertical-align: middle;\n",
              "    }\n",
              "\n",
              "    .dataframe tbody tr th {\n",
              "        vertical-align: top;\n",
              "    }\n",
              "\n",
              "    .dataframe thead th {\n",
              "        text-align: right;\n",
              "    }\n",
              "</style>\n",
              "<table border=\"1\" class=\"dataframe\">\n",
              "  <thead>\n",
              "    <tr style=\"text-align: right;\">\n",
              "      <th></th>\n",
              "      <th>vendedor_id</th>\n",
              "      <th>nombre_vendedor</th>\n",
              "    </tr>\n",
              "  </thead>\n",
              "  <tbody>\n",
              "    <tr>\n",
              "      <th>0</th>\n",
              "      <td>1</td>\n",
              "      <td>Ana Duarte</td>\n",
              "    </tr>\n",
              "    <tr>\n",
              "      <th>1</th>\n",
              "      <td>2</td>\n",
              "      <td>Daniel Siqueira</td>\n",
              "    </tr>\n",
              "    <tr>\n",
              "      <th>2</th>\n",
              "      <td>3</td>\n",
              "      <td>Nadia Oliveira</td>\n",
              "    </tr>\n",
              "    <tr>\n",
              "      <th>3</th>\n",
              "      <td>4</td>\n",
              "      <td>Millena Pereira</td>\n",
              "    </tr>\n",
              "    <tr>\n",
              "      <th>4</th>\n",
              "      <td>5</td>\n",
              "      <td>Paulo Calanca</td>\n",
              "    </tr>\n",
              "  </tbody>\n",
              "</table>\n",
              "</div>"
            ],
            "text/plain": [
              "   vendedor_id  nombre_vendedor\n",
              "0            1       Ana Duarte\n",
              "1            2  Daniel Siqueira\n",
              "2            3   Nadia Oliveira\n",
              "3            4  Millena Pereira\n",
              "4            5    Paulo Calanca"
            ]
          },
          "execution_count": 127,
          "metadata": {},
          "output_type": "execute_result"
        }
      ],
      "source": [
        "df_vendedores = pd.read_csv('https://raw.githubusercontent.com/ElProfeAlejo/Bootcamp_Databases/main/vendedores.csv')\n",
        "df_vendedores.head()"
      ]
    },
    {
      "cell_type": "code",
      "execution_count": 128,
      "metadata": {},
      "outputs": [
        {
          "name": "stdout",
          "output_type": "stream",
          "text": [
            "<class 'pandas.core.frame.DataFrame'>\n",
            "RangeIndex: 6 entries, 0 to 5\n",
            "Data columns (total 2 columns):\n",
            " #   Column           Non-Null Count  Dtype \n",
            "---  ------           --------------  ----- \n",
            " 0   vendedor_id      6 non-null      int64 \n",
            " 1   nombre_vendedor  6 non-null      object\n",
            "dtypes: int64(1), object(1)\n",
            "memory usage: 228.0+ bytes\n"
          ]
        }
      ],
      "source": [
        "df_vendedores.info()"
      ]
    },
    {
      "cell_type": "markdown",
      "metadata": {
        "id": "MJs3S7WQuuTK"
      },
      "source": [
        "## **2.2 Feature engineering**"
      ]
    },
    {
      "cell_type": "markdown",
      "metadata": {},
      "source": [
        "### DataFrame df_itens_pedidos\n",
        "Se verifica la columna ciudad, y se reemplaza por otra columna con el nombre de la ciudad"
      ]
    },
    {
      "cell_type": "code",
      "execution_count": 129,
      "metadata": {
        "colab": {
          "base_uri": "https://localhost:8080/",
          "height": 400
        },
        "id": "NvLcmA4o8DFv",
        "outputId": "afe5e85e-e6df-48d6-aae4-fd55962bb145"
      },
      "outputs": [
        {
          "data": {
            "text/html": [
              "<div>\n",
              "<style scoped>\n",
              "    .dataframe tbody tr th:only-of-type {\n",
              "        vertical-align: middle;\n",
              "    }\n",
              "\n",
              "    .dataframe tbody tr th {\n",
              "        vertical-align: top;\n",
              "    }\n",
              "\n",
              "    .dataframe thead th {\n",
              "        text-align: right;\n",
              "    }\n",
              "</style>\n",
              "<table border=\"1\" class=\"dataframe\">\n",
              "  <thead>\n",
              "    <tr style=\"text-align: right;\">\n",
              "      <th></th>\n",
              "      <th>id_recibo</th>\n",
              "      <th>producto_id</th>\n",
              "      <th>pedido_id</th>\n",
              "      <th>cantidad</th>\n",
              "      <th>valor_unitario</th>\n",
              "      <th>valor_total</th>\n",
              "      <th>ciudad</th>\n",
              "      <th>costo_envio</th>\n",
              "    </tr>\n",
              "  </thead>\n",
              "  <tbody>\n",
              "    <tr>\n",
              "      <th>0</th>\n",
              "      <td>1</td>\n",
              "      <td>41518</td>\n",
              "      <td>341</td>\n",
              "      <td>3</td>\n",
              "      <td>260</td>\n",
              "      <td>780</td>\n",
              "      <td>BR-BA</td>\n",
              "      <td>156.0</td>\n",
              "    </tr>\n",
              "    <tr>\n",
              "      <th>1</th>\n",
              "      <td>2</td>\n",
              "      <td>4307</td>\n",
              "      <td>1174</td>\n",
              "      <td>5</td>\n",
              "      <td>6175</td>\n",
              "      <td>30875</td>\n",
              "      <td>BR-RJ</td>\n",
              "      <td>6175.0</td>\n",
              "    </tr>\n",
              "    <tr>\n",
              "      <th>2</th>\n",
              "      <td>3</td>\n",
              "      <td>22407</td>\n",
              "      <td>1399</td>\n",
              "      <td>3</td>\n",
              "      <td>200</td>\n",
              "      <td>600</td>\n",
              "      <td>BR-PB</td>\n",
              "      <td>120.0</td>\n",
              "    </tr>\n",
              "    <tr>\n",
              "      <th>3</th>\n",
              "      <td>4</td>\n",
              "      <td>3820</td>\n",
              "      <td>1652</td>\n",
              "      <td>6</td>\n",
              "      <td>139</td>\n",
              "      <td>834</td>\n",
              "      <td>BR-DF</td>\n",
              "      <td>166.8</td>\n",
              "    </tr>\n",
              "    <tr>\n",
              "      <th>4</th>\n",
              "      <td>5</td>\n",
              "      <td>29012</td>\n",
              "      <td>2470</td>\n",
              "      <td>3</td>\n",
              "      <td>525</td>\n",
              "      <td>1575</td>\n",
              "      <td>BR-BA</td>\n",
              "      <td>315.0</td>\n",
              "    </tr>\n",
              "    <tr>\n",
              "      <th>5</th>\n",
              "      <td>6</td>\n",
              "      <td>72621</td>\n",
              "      <td>2980</td>\n",
              "      <td>3</td>\n",
              "      <td>179</td>\n",
              "      <td>537</td>\n",
              "      <td>BR-MG</td>\n",
              "      <td>107.4</td>\n",
              "    </tr>\n",
              "    <tr>\n",
              "      <th>6</th>\n",
              "      <td>7</td>\n",
              "      <td>86243</td>\n",
              "      <td>3443</td>\n",
              "      <td>4</td>\n",
              "      <td>350</td>\n",
              "      <td>1400</td>\n",
              "      <td>BR-PR</td>\n",
              "      <td>280.0</td>\n",
              "    </tr>\n",
              "    <tr>\n",
              "      <th>7</th>\n",
              "      <td>8</td>\n",
              "      <td>29012</td>\n",
              "      <td>3557</td>\n",
              "      <td>5</td>\n",
              "      <td>525</td>\n",
              "      <td>2625</td>\n",
              "      <td>BR-MS</td>\n",
              "      <td>525.0</td>\n",
              "    </tr>\n",
              "    <tr>\n",
              "      <th>8</th>\n",
              "      <td>9</td>\n",
              "      <td>61071</td>\n",
              "      <td>3585</td>\n",
              "      <td>3</td>\n",
              "      <td>450</td>\n",
              "      <td>1350</td>\n",
              "      <td>BR-SP</td>\n",
              "      <td>270.0</td>\n",
              "    </tr>\n",
              "    <tr>\n",
              "      <th>9</th>\n",
              "      <td>10</td>\n",
              "      <td>100961</td>\n",
              "      <td>3687</td>\n",
              "      <td>2</td>\n",
              "      <td>480</td>\n",
              "      <td>960</td>\n",
              "      <td>BR-GO</td>\n",
              "      <td>192.0</td>\n",
              "    </tr>\n",
              "  </tbody>\n",
              "</table>\n",
              "</div>"
            ],
            "text/plain": [
              "   id_recibo  producto_id  pedido_id  cantidad  valor_unitario  valor_total  \\\n",
              "0          1        41518        341         3             260          780   \n",
              "1          2         4307       1174         5            6175        30875   \n",
              "2          3        22407       1399         3             200          600   \n",
              "3          4         3820       1652         6             139          834   \n",
              "4          5        29012       2470         3             525         1575   \n",
              "5          6        72621       2980         3             179          537   \n",
              "6          7        86243       3443         4             350         1400   \n",
              "7          8        29012       3557         5             525         2625   \n",
              "8          9        61071       3585         3             450         1350   \n",
              "9         10       100961       3687         2             480          960   \n",
              "\n",
              "  ciudad  costo_envio  \n",
              "0  BR-BA        156.0  \n",
              "1  BR-RJ       6175.0  \n",
              "2  BR-PB        120.0  \n",
              "3  BR-DF        166.8  \n",
              "4  BR-BA        315.0  \n",
              "5  BR-MG        107.4  \n",
              "6  BR-PR        280.0  \n",
              "7  BR-MS        525.0  \n",
              "8  BR-SP        270.0  \n",
              "9  BR-GO        192.0  "
            ]
          },
          "execution_count": 129,
          "metadata": {},
          "output_type": "execute_result"
        }
      ],
      "source": [
        "df_itens_pedidos.head(10)"
      ]
    },
    {
      "cell_type": "markdown",
      "metadata": {},
      "source": [
        "se verifican todos los valores unicos que hay en la columna ciudades"
      ]
    },
    {
      "cell_type": "code",
      "execution_count": 130,
      "metadata": {},
      "outputs": [
        {
          "data": {
            "text/plain": [
              "array(['BR-BA', 'BR-RJ', 'BR-PB', 'BR-DF', 'BR-MG', 'BR-PR', 'BR-MS',\n",
              "       'BR-SP', 'BR-GO', 'BR-AM', 'BR-CE', 'BR-RS', 'BR-AC', 'BR-RO',\n",
              "       'BR-MT', 'BR-RR', 'BR-PE', 'BR-MA', 'BR-PA', 'BR-SC', 'BR-SE',\n",
              "       'BR-TO', 'BR-AP', 'BR-PI', 'BR-ES', 'BR-AL', 'BR-RN'], dtype=object)"
            ]
          },
          "execution_count": 130,
          "metadata": {},
          "output_type": "execute_result"
        }
      ],
      "source": [
        "df_itens_pedidos['ciudad'].unique()"
      ]
    },
    {
      "cell_type": "markdown",
      "metadata": {},
      "source": [
        "Se crea un diccionario con las ciudades"
      ]
    },
    {
      "cell_type": "code",
      "execution_count": 131,
      "metadata": {},
      "outputs": [],
      "source": [
        "ciudades_dict = {\n",
        "    'BR-BA': 'Bahia',\n",
        "    'BR-RJ': 'Rio de Janeiro',\n",
        "    'BR-PB': 'Paraíba',\n",
        "    'BR-DF': 'Distrito Federal',\n",
        "    'BR-MG': 'Minas Gerais',\n",
        "    'BR-PR': 'Paraná',\n",
        "    'BR-MS': 'Mato Grosso do Sul',\n",
        "    'BR-SP': 'São Paulo',\n",
        "    'BR-GO': 'Goiás',\n",
        "    'BR-AM': 'Amazonas',\n",
        "    'BR-CE': 'Ceará',\n",
        "    'BR-RS': 'Rio Grande do Sul',\n",
        "    'BR-AC': 'Acre',\n",
        "    'BR-RO': 'Rondônia',\n",
        "    'BR-MT': 'Mato Grosso',\n",
        "    'BR-RR': 'Roraima',\n",
        "    'BR-PE': 'Pernambuco',\n",
        "    'BR-MA': 'Maranhão',\n",
        "    'BR-PA': 'Pará',\n",
        "    'BR-SC': 'Santa Catarina',\n",
        "    'BR-SE': 'Sergipe',\n",
        "    'BR-TO': 'Tocantins',\n",
        "    'BR-AP': 'Amapá',\n",
        "    'BR-PI': 'Piauí',\n",
        "    'BR-ES': 'Espírito Santo',\n",
        "    'BR-AL': 'Alagoas',\n",
        "    'BR-RN': 'Rio Grande do Norte'\n",
        "}\n"
      ]
    },
    {
      "cell_type": "markdown",
      "metadata": {},
      "source": [
        "Se mapea y se crea la columna nueva"
      ]
    },
    {
      "cell_type": "code",
      "execution_count": 132,
      "metadata": {},
      "outputs": [],
      "source": [
        "df_itens_pedidos['ciudad'] = df_itens_pedidos['ciudad'].map(ciudades_dict)"
      ]
    },
    {
      "cell_type": "markdown",
      "metadata": {},
      "source": [
        "Se visualiza el cambio de la columna ciudad"
      ]
    },
    {
      "cell_type": "code",
      "execution_count": 133,
      "metadata": {},
      "outputs": [
        {
          "data": {
            "text/html": [
              "<div>\n",
              "<style scoped>\n",
              "    .dataframe tbody tr th:only-of-type {\n",
              "        vertical-align: middle;\n",
              "    }\n",
              "\n",
              "    .dataframe tbody tr th {\n",
              "        vertical-align: top;\n",
              "    }\n",
              "\n",
              "    .dataframe thead th {\n",
              "        text-align: right;\n",
              "    }\n",
              "</style>\n",
              "<table border=\"1\" class=\"dataframe\">\n",
              "  <thead>\n",
              "    <tr style=\"text-align: right;\">\n",
              "      <th></th>\n",
              "      <th>id_recibo</th>\n",
              "      <th>producto_id</th>\n",
              "      <th>pedido_id</th>\n",
              "      <th>cantidad</th>\n",
              "      <th>valor_unitario</th>\n",
              "      <th>valor_total</th>\n",
              "      <th>ciudad</th>\n",
              "      <th>costo_envio</th>\n",
              "    </tr>\n",
              "  </thead>\n",
              "  <tbody>\n",
              "    <tr>\n",
              "      <th>0</th>\n",
              "      <td>1</td>\n",
              "      <td>41518</td>\n",
              "      <td>341</td>\n",
              "      <td>3</td>\n",
              "      <td>260</td>\n",
              "      <td>780</td>\n",
              "      <td>Bahia</td>\n",
              "      <td>156.0</td>\n",
              "    </tr>\n",
              "    <tr>\n",
              "      <th>1</th>\n",
              "      <td>2</td>\n",
              "      <td>4307</td>\n",
              "      <td>1174</td>\n",
              "      <td>5</td>\n",
              "      <td>6175</td>\n",
              "      <td>30875</td>\n",
              "      <td>Rio de Janeiro</td>\n",
              "      <td>6175.0</td>\n",
              "    </tr>\n",
              "    <tr>\n",
              "      <th>2</th>\n",
              "      <td>3</td>\n",
              "      <td>22407</td>\n",
              "      <td>1399</td>\n",
              "      <td>3</td>\n",
              "      <td>200</td>\n",
              "      <td>600</td>\n",
              "      <td>Paraíba</td>\n",
              "      <td>120.0</td>\n",
              "    </tr>\n",
              "    <tr>\n",
              "      <th>3</th>\n",
              "      <td>4</td>\n",
              "      <td>3820</td>\n",
              "      <td>1652</td>\n",
              "      <td>6</td>\n",
              "      <td>139</td>\n",
              "      <td>834</td>\n",
              "      <td>Distrito Federal</td>\n",
              "      <td>166.8</td>\n",
              "    </tr>\n",
              "    <tr>\n",
              "      <th>4</th>\n",
              "      <td>5</td>\n",
              "      <td>29012</td>\n",
              "      <td>2470</td>\n",
              "      <td>3</td>\n",
              "      <td>525</td>\n",
              "      <td>1575</td>\n",
              "      <td>Bahia</td>\n",
              "      <td>315.0</td>\n",
              "    </tr>\n",
              "  </tbody>\n",
              "</table>\n",
              "</div>"
            ],
            "text/plain": [
              "   id_recibo  producto_id  pedido_id  cantidad  valor_unitario  valor_total  \\\n",
              "0          1        41518        341         3             260          780   \n",
              "1          2         4307       1174         5            6175        30875   \n",
              "2          3        22407       1399         3             200          600   \n",
              "3          4         3820       1652         6             139          834   \n",
              "4          5        29012       2470         3             525         1575   \n",
              "\n",
              "             ciudad  costo_envio  \n",
              "0             Bahia        156.0  \n",
              "1    Rio de Janeiro       6175.0  \n",
              "2           Paraíba        120.0  \n",
              "3  Distrito Federal        166.8  \n",
              "4             Bahia        315.0  "
            ]
          },
          "execution_count": 133,
          "metadata": {},
          "output_type": "execute_result"
        }
      ],
      "source": [
        "df_itens_pedidos.head()"
      ]
    },
    {
      "cell_type": "markdown",
      "metadata": {},
      "source": [
        "Se crea las columnas latitud y longitud para cada ciudad"
      ]
    },
    {
      "cell_type": "code",
      "execution_count": 134,
      "metadata": {},
      "outputs": [],
      "source": [
        "coordenadas = {\n",
        "    'Bahia': {'latitud': -12.9704, 'longitud': -38.5124},\n",
        "    'Rio de Janeiro': {'latitud': -22.9068, 'longitud': -43.1729},\n",
        "    'Paraíba': {'latitud': -7.2398, 'longitud': -36.7819},\n",
        "    'Distrito Federal': {'latitud': -15.7939, 'longitud': -47.8828},\n",
        "    'Minas Gerais': {'latitud': -19.9286, 'longitud': -43.9386},\n",
        "    'Paraná': {'latitud': -25.2521, 'longitud': -52.0215},\n",
        "    'Mato Grosso do Sul': {'latitud': -20.4428, 'longitud': -54.6464},\n",
        "    'São Paulo': {'latitud': -23.5505, 'longitud': -46.6333},\n",
        "    'Goiás': {'latitud': -16.6869, 'longitud': -49.2648},\n",
        "    'Amazonas': {'latitud': -3.1190, 'longitud': -60.0217},\n",
        "    'Ceará': {'latitud': -3.7172, 'longitud': -38.5434},\n",
        "    'Rio Grande do Sul': {'latitud': -30.0346, 'longitud': -51.2177},\n",
        "    'Acre': {'latitud': -9.0238, 'longitud': -70.8120},\n",
        "    'Rondônia': {'latitud': -8.7612, 'longitud': -63.9039},\n",
        "    'Mato Grosso': {'latitud': -15.6014, 'longitud': -56.0979},\n",
        "    'Roraima': {'latitud': 2.8235, 'longitud': -60.6758},\n",
        "    'Pernambuco': {'latitud': -8.0476, 'longitud': -34.8770},\n",
        "    'Maranhão': {'latitud': -2.5387, 'longitud': -44.2829},\n",
        "    'Pará': {'latitud': -1.4558, 'longitud': -48.4902},\n",
        "    'Santa Catarina': {'latitud': -27.5954, 'longitud': -48.5480},\n",
        "    'Sergipe': {'latitud': -10.9472, 'longitud': -37.0731},\n",
        "    'Tocantins': {'latitud': -10.2527, 'longitud': -48.2530},\n",
        "    'Amapá': {'latitud': 0.0340, 'longitud': -51.0694},\n",
        "    'Piauí': {'latitud': -5.0892, 'longitud': -42.8016},\n",
        "    'Espírito Santo': {'latitud': -20.3155, 'longitud': -40.3128},\n",
        "    'Alagoas': {'latitud': -9.5713, 'longitud': -36.7820},\n",
        "    'Rio Grande do Norte': {'latitud': -5.7945, 'longitud': -35.2110}\n",
        "}\n"
      ]
    },
    {
      "cell_type": "markdown",
      "metadata": {},
      "source": [
        "Se crea la columna de latitud y longitud"
      ]
    },
    {
      "cell_type": "code",
      "execution_count": 135,
      "metadata": {},
      "outputs": [],
      "source": [
        "df_itens_pedidos['latitud'] = df_itens_pedidos['ciudad'].map(lambda x: coordenadas[x]['latitud'])\n",
        "df_itens_pedidos['longitud'] = df_itens_pedidos['ciudad'].map(lambda x: coordenadas[x]['longitud'])"
      ]
    },
    {
      "cell_type": "markdown",
      "metadata": {},
      "source": [
        "Se crea las columnas de mes y año"
      ]
    },
    {
      "cell_type": "code",
      "execution_count": 136,
      "metadata": {},
      "outputs": [
        {
          "data": {
            "text/html": [
              "<div>\n",
              "<style scoped>\n",
              "    .dataframe tbody tr th:only-of-type {\n",
              "        vertical-align: middle;\n",
              "    }\n",
              "\n",
              "    .dataframe tbody tr th {\n",
              "        vertical-align: top;\n",
              "    }\n",
              "\n",
              "    .dataframe thead th {\n",
              "        text-align: right;\n",
              "    }\n",
              "</style>\n",
              "<table border=\"1\" class=\"dataframe\">\n",
              "  <thead>\n",
              "    <tr style=\"text-align: right;\">\n",
              "      <th></th>\n",
              "      <th>pedido_id</th>\n",
              "      <th>producto_id</th>\n",
              "      <th>vendedor_id</th>\n",
              "      <th>fecha_compra</th>\n",
              "      <th>total</th>\n",
              "      <th>anio</th>\n",
              "      <th>mes</th>\n",
              "      <th>num_mes</th>\n",
              "    </tr>\n",
              "  </thead>\n",
              "  <tbody>\n",
              "    <tr>\n",
              "      <th>0</th>\n",
              "      <td>341</td>\n",
              "      <td>41518</td>\n",
              "      <td>6</td>\n",
              "      <td>2019-01-05</td>\n",
              "      <td>780</td>\n",
              "      <td>2019</td>\n",
              "      <td>January</td>\n",
              "      <td>1</td>\n",
              "    </tr>\n",
              "  </tbody>\n",
              "</table>\n",
              "</div>"
            ],
            "text/plain": [
              "   pedido_id  producto_id  vendedor_id fecha_compra  total  anio      mes  \\\n",
              "0        341        41518            6   2019-01-05    780  2019  January   \n",
              "\n",
              "   num_mes  \n",
              "0        1  "
            ]
          },
          "execution_count": 136,
          "metadata": {},
          "output_type": "execute_result"
        }
      ],
      "source": [
        "df_pedidos['anio'] = df_pedidos['fecha_compra'].dt.year\n",
        "df_pedidos['mes'] = df_pedidos['fecha_compra'].dt.month_name()\n",
        "df_pedidos['num_mes'] = df_pedidos['fecha_compra'].dt.month\n",
        "\n",
        "df_pedidos.head(1)"
      ]
    },
    {
      "cell_type": "markdown",
      "metadata": {},
      "source": [
        "### DataFrame productos\n",
        "se crea otra columna con el tipo de producto, para ello se extrae la primera palabra de la columna producto"
      ]
    },
    {
      "cell_type": "code",
      "execution_count": 137,
      "metadata": {
        "colab": {
          "base_uri": "https://localhost:8080/"
        },
        "id": "f8vl4If_89nO",
        "outputId": "8ef76141-e868-41c5-a126-2d926c746d4b"
      },
      "outputs": [
        {
          "data": {
            "text/html": [
              "<div>\n",
              "<style scoped>\n",
              "    .dataframe tbody tr th:only-of-type {\n",
              "        vertical-align: middle;\n",
              "    }\n",
              "\n",
              "    .dataframe tbody tr th {\n",
              "        vertical-align: top;\n",
              "    }\n",
              "\n",
              "    .dataframe thead th {\n",
              "        text-align: right;\n",
              "    }\n",
              "</style>\n",
              "<table border=\"1\" class=\"dataframe\">\n",
              "  <thead>\n",
              "    <tr style=\"text-align: right;\">\n",
              "      <th></th>\n",
              "      <th>producto_id</th>\n",
              "      <th>producto</th>\n",
              "      <th>precio</th>\n",
              "      <th>marca</th>\n",
              "      <th>sku</th>\n",
              "      <th>condicion</th>\n",
              "    </tr>\n",
              "  </thead>\n",
              "  <tbody>\n",
              "    <tr>\n",
              "      <th>0</th>\n",
              "      <td>21244</td>\n",
              "      <td>Oculos Lente Azulada</td>\n",
              "      <td>1120</td>\n",
              "      <td>D&amp;g Dolce &amp; Gabbana</td>\n",
              "      <td>209297.0</td>\n",
              "      <td>Usado</td>\n",
              "    </tr>\n",
              "    <tr>\n",
              "      <th>1</th>\n",
              "      <td>9981</td>\n",
              "      <td>Bolsa Coral Saco</td>\n",
              "      <td>4000</td>\n",
              "      <td>Givenchy</td>\n",
              "      <td>278612.0</td>\n",
              "      <td>Usado</td>\n",
              "    </tr>\n",
              "    <tr>\n",
              "      <th>2</th>\n",
              "      <td>84176</td>\n",
              "      <td>Camisa Xadrez Verde</td>\n",
              "      <td>310</td>\n",
              "      <td>Joe Fresh</td>\n",
              "      <td>322482.0</td>\n",
              "      <td>Usado</td>\n",
              "    </tr>\n",
              "    <tr>\n",
              "      <th>3</th>\n",
              "      <td>47475</td>\n",
              "      <td>Calca Alfaiataria Preta</td>\n",
              "      <td>490</td>\n",
              "      <td>Mixed</td>\n",
              "      <td>263658.0</td>\n",
              "      <td>Usado</td>\n",
              "    </tr>\n",
              "    <tr>\n",
              "      <th>4</th>\n",
              "      <td>74864</td>\n",
              "      <td>Vestido Jeans Babados</td>\n",
              "      <td>130</td>\n",
              "      <td>Zara</td>\n",
              "      <td>219248.0</td>\n",
              "      <td>Usado</td>\n",
              "    </tr>\n",
              "  </tbody>\n",
              "</table>\n",
              "</div>"
            ],
            "text/plain": [
              "   producto_id                 producto  precio                marca  \\\n",
              "0        21244     Oculos Lente Azulada    1120  D&g Dolce & Gabbana   \n",
              "1         9981         Bolsa Coral Saco    4000             Givenchy   \n",
              "2        84176      Camisa Xadrez Verde     310            Joe Fresh   \n",
              "3        47475  Calca Alfaiataria Preta     490                Mixed   \n",
              "4        74864    Vestido Jeans Babados     130                 Zara   \n",
              "\n",
              "        sku condicion  \n",
              "0  209297.0     Usado  \n",
              "1  278612.0     Usado  \n",
              "2  322482.0     Usado  \n",
              "3  263658.0     Usado  \n",
              "4  219248.0     Usado  "
            ]
          },
          "execution_count": 137,
          "metadata": {},
          "output_type": "execute_result"
        }
      ],
      "source": [
        "df_productos.head()"
      ]
    },
    {
      "cell_type": "code",
      "execution_count": 138,
      "metadata": {
        "colab": {
          "base_uri": "https://localhost:8080/"
        },
        "id": "KzA9MC1P9HX8",
        "outputId": "2f8ec542-7802-43b5-e6ad-0424efdbdbb3"
      },
      "outputs": [],
      "source": [
        "df_productos['tipo_producto'] = df_productos['producto'].str.split().str[0]"
      ]
    },
    {
      "cell_type": "markdown",
      "metadata": {},
      "source": [
        "insertamos la nueva columna en la segunda posicion"
      ]
    },
    {
      "cell_type": "code",
      "execution_count": 139,
      "metadata": {},
      "outputs": [],
      "source": [
        "df_productos.insert(2, 'tipo_producto', df_productos.pop('tipo_producto'))"
      ]
    },
    {
      "cell_type": "code",
      "execution_count": 140,
      "metadata": {},
      "outputs": [
        {
          "data": {
            "text/html": [
              "<div>\n",
              "<style scoped>\n",
              "    .dataframe tbody tr th:only-of-type {\n",
              "        vertical-align: middle;\n",
              "    }\n",
              "\n",
              "    .dataframe tbody tr th {\n",
              "        vertical-align: top;\n",
              "    }\n",
              "\n",
              "    .dataframe thead th {\n",
              "        text-align: right;\n",
              "    }\n",
              "</style>\n",
              "<table border=\"1\" class=\"dataframe\">\n",
              "  <thead>\n",
              "    <tr style=\"text-align: right;\">\n",
              "      <th></th>\n",
              "      <th>producto_id</th>\n",
              "      <th>producto</th>\n",
              "      <th>tipo_producto</th>\n",
              "      <th>precio</th>\n",
              "      <th>marca</th>\n",
              "      <th>sku</th>\n",
              "      <th>condicion</th>\n",
              "    </tr>\n",
              "  </thead>\n",
              "  <tbody>\n",
              "    <tr>\n",
              "      <th>0</th>\n",
              "      <td>21244</td>\n",
              "      <td>Oculos Lente Azulada</td>\n",
              "      <td>Oculos</td>\n",
              "      <td>1120</td>\n",
              "      <td>D&amp;g Dolce &amp; Gabbana</td>\n",
              "      <td>209297.0</td>\n",
              "      <td>Usado</td>\n",
              "    </tr>\n",
              "    <tr>\n",
              "      <th>1</th>\n",
              "      <td>9981</td>\n",
              "      <td>Bolsa Coral Saco</td>\n",
              "      <td>Bolsa</td>\n",
              "      <td>4000</td>\n",
              "      <td>Givenchy</td>\n",
              "      <td>278612.0</td>\n",
              "      <td>Usado</td>\n",
              "    </tr>\n",
              "    <tr>\n",
              "      <th>2</th>\n",
              "      <td>84176</td>\n",
              "      <td>Camisa Xadrez Verde</td>\n",
              "      <td>Camisa</td>\n",
              "      <td>310</td>\n",
              "      <td>Joe Fresh</td>\n",
              "      <td>322482.0</td>\n",
              "      <td>Usado</td>\n",
              "    </tr>\n",
              "    <tr>\n",
              "      <th>3</th>\n",
              "      <td>47475</td>\n",
              "      <td>Calca Alfaiataria Preta</td>\n",
              "      <td>Calca</td>\n",
              "      <td>490</td>\n",
              "      <td>Mixed</td>\n",
              "      <td>263658.0</td>\n",
              "      <td>Usado</td>\n",
              "    </tr>\n",
              "    <tr>\n",
              "      <th>4</th>\n",
              "      <td>74864</td>\n",
              "      <td>Vestido Jeans Babados</td>\n",
              "      <td>Vestido</td>\n",
              "      <td>130</td>\n",
              "      <td>Zara</td>\n",
              "      <td>219248.0</td>\n",
              "      <td>Usado</td>\n",
              "    </tr>\n",
              "  </tbody>\n",
              "</table>\n",
              "</div>"
            ],
            "text/plain": [
              "   producto_id                 producto tipo_producto  precio  \\\n",
              "0        21244     Oculos Lente Azulada        Oculos    1120   \n",
              "1         9981         Bolsa Coral Saco         Bolsa    4000   \n",
              "2        84176      Camisa Xadrez Verde        Camisa     310   \n",
              "3        47475  Calca Alfaiataria Preta         Calca     490   \n",
              "4        74864    Vestido Jeans Babados       Vestido     130   \n",
              "\n",
              "                 marca       sku condicion  \n",
              "0  D&g Dolce & Gabbana  209297.0     Usado  \n",
              "1             Givenchy  278612.0     Usado  \n",
              "2            Joe Fresh  322482.0     Usado  \n",
              "3                Mixed  263658.0     Usado  \n",
              "4                 Zara  219248.0     Usado  "
            ]
          },
          "execution_count": 140,
          "metadata": {},
          "output_type": "execute_result"
        }
      ],
      "source": [
        "df_productos.head()"
      ]
    },
    {
      "cell_type": "markdown",
      "metadata": {},
      "source": [
        "## Una vez tratados los datos se unen los cuatro DataFrames"
      ]
    },
    {
      "cell_type": "code",
      "execution_count": 141,
      "metadata": {},
      "outputs": [
        {
          "data": {
            "text/html": [
              "<div>\n",
              "<style scoped>\n",
              "    .dataframe tbody tr th:only-of-type {\n",
              "        vertical-align: middle;\n",
              "    }\n",
              "\n",
              "    .dataframe tbody tr th {\n",
              "        vertical-align: top;\n",
              "    }\n",
              "\n",
              "    .dataframe thead th {\n",
              "        text-align: right;\n",
              "    }\n",
              "</style>\n",
              "<table border=\"1\" class=\"dataframe\">\n",
              "  <thead>\n",
              "    <tr style=\"text-align: right;\">\n",
              "      <th></th>\n",
              "      <th>id_recibo</th>\n",
              "      <th>producto_id</th>\n",
              "      <th>pedido_id</th>\n",
              "      <th>cantidad</th>\n",
              "      <th>valor_unitario</th>\n",
              "      <th>valor_total</th>\n",
              "      <th>ciudad</th>\n",
              "      <th>costo_envio</th>\n",
              "      <th>latitud</th>\n",
              "      <th>longitud</th>\n",
              "    </tr>\n",
              "  </thead>\n",
              "  <tbody>\n",
              "    <tr>\n",
              "      <th>0</th>\n",
              "      <td>1</td>\n",
              "      <td>41518</td>\n",
              "      <td>341</td>\n",
              "      <td>3</td>\n",
              "      <td>260</td>\n",
              "      <td>780</td>\n",
              "      <td>Bahia</td>\n",
              "      <td>156.0</td>\n",
              "      <td>-12.9704</td>\n",
              "      <td>-38.5124</td>\n",
              "    </tr>\n",
              "  </tbody>\n",
              "</table>\n",
              "</div>"
            ],
            "text/plain": [
              "   id_recibo  producto_id  pedido_id  cantidad  valor_unitario  valor_total  \\\n",
              "0          1        41518        341         3             260          780   \n",
              "\n",
              "  ciudad  costo_envio  latitud  longitud  \n",
              "0  Bahia        156.0 -12.9704  -38.5124  "
            ]
          },
          "execution_count": 141,
          "metadata": {},
          "output_type": "execute_result"
        }
      ],
      "source": [
        "df_itens_pedidos.head(1)\n"
      ]
    },
    {
      "cell_type": "code",
      "execution_count": 142,
      "metadata": {},
      "outputs": [
        {
          "data": {
            "text/html": [
              "<div>\n",
              "<style scoped>\n",
              "    .dataframe tbody tr th:only-of-type {\n",
              "        vertical-align: middle;\n",
              "    }\n",
              "\n",
              "    .dataframe tbody tr th {\n",
              "        vertical-align: top;\n",
              "    }\n",
              "\n",
              "    .dataframe thead th {\n",
              "        text-align: right;\n",
              "    }\n",
              "</style>\n",
              "<table border=\"1\" class=\"dataframe\">\n",
              "  <thead>\n",
              "    <tr style=\"text-align: right;\">\n",
              "      <th></th>\n",
              "      <th>pedido_id</th>\n",
              "      <th>producto_id</th>\n",
              "      <th>vendedor_id</th>\n",
              "      <th>fecha_compra</th>\n",
              "      <th>total</th>\n",
              "      <th>anio</th>\n",
              "      <th>mes</th>\n",
              "      <th>num_mes</th>\n",
              "    </tr>\n",
              "  </thead>\n",
              "  <tbody>\n",
              "    <tr>\n",
              "      <th>0</th>\n",
              "      <td>341</td>\n",
              "      <td>41518</td>\n",
              "      <td>6</td>\n",
              "      <td>2019-01-05</td>\n",
              "      <td>780</td>\n",
              "      <td>2019</td>\n",
              "      <td>January</td>\n",
              "      <td>1</td>\n",
              "    </tr>\n",
              "  </tbody>\n",
              "</table>\n",
              "</div>"
            ],
            "text/plain": [
              "   pedido_id  producto_id  vendedor_id fecha_compra  total  anio      mes  \\\n",
              "0        341        41518            6   2019-01-05    780  2019  January   \n",
              "\n",
              "   num_mes  \n",
              "0        1  "
            ]
          },
          "execution_count": 142,
          "metadata": {},
          "output_type": "execute_result"
        }
      ],
      "source": [
        "df_pedidos.head(1)"
      ]
    },
    {
      "cell_type": "code",
      "execution_count": 143,
      "metadata": {},
      "outputs": [
        {
          "data": {
            "text/html": [
              "<div>\n",
              "<style scoped>\n",
              "    .dataframe tbody tr th:only-of-type {\n",
              "        vertical-align: middle;\n",
              "    }\n",
              "\n",
              "    .dataframe tbody tr th {\n",
              "        vertical-align: top;\n",
              "    }\n",
              "\n",
              "    .dataframe thead th {\n",
              "        text-align: right;\n",
              "    }\n",
              "</style>\n",
              "<table border=\"1\" class=\"dataframe\">\n",
              "  <thead>\n",
              "    <tr style=\"text-align: right;\">\n",
              "      <th></th>\n",
              "      <th>producto_id</th>\n",
              "      <th>producto</th>\n",
              "      <th>tipo_producto</th>\n",
              "      <th>precio</th>\n",
              "      <th>marca</th>\n",
              "      <th>sku</th>\n",
              "      <th>condicion</th>\n",
              "    </tr>\n",
              "  </thead>\n",
              "  <tbody>\n",
              "    <tr>\n",
              "      <th>0</th>\n",
              "      <td>21244</td>\n",
              "      <td>Oculos Lente Azulada</td>\n",
              "      <td>Oculos</td>\n",
              "      <td>1120</td>\n",
              "      <td>D&amp;g Dolce &amp; Gabbana</td>\n",
              "      <td>209297.0</td>\n",
              "      <td>Usado</td>\n",
              "    </tr>\n",
              "  </tbody>\n",
              "</table>\n",
              "</div>"
            ],
            "text/plain": [
              "   producto_id              producto tipo_producto  precio  \\\n",
              "0        21244  Oculos Lente Azulada        Oculos    1120   \n",
              "\n",
              "                 marca       sku condicion  \n",
              "0  D&g Dolce & Gabbana  209297.0     Usado  "
            ]
          },
          "execution_count": 143,
          "metadata": {},
          "output_type": "execute_result"
        }
      ],
      "source": [
        "df_productos.head(1)"
      ]
    },
    {
      "cell_type": "code",
      "execution_count": 144,
      "metadata": {},
      "outputs": [
        {
          "data": {
            "text/html": [
              "<div>\n",
              "<style scoped>\n",
              "    .dataframe tbody tr th:only-of-type {\n",
              "        vertical-align: middle;\n",
              "    }\n",
              "\n",
              "    .dataframe tbody tr th {\n",
              "        vertical-align: top;\n",
              "    }\n",
              "\n",
              "    .dataframe thead th {\n",
              "        text-align: right;\n",
              "    }\n",
              "</style>\n",
              "<table border=\"1\" class=\"dataframe\">\n",
              "  <thead>\n",
              "    <tr style=\"text-align: right;\">\n",
              "      <th></th>\n",
              "      <th>vendedor_id</th>\n",
              "      <th>nombre_vendedor</th>\n",
              "    </tr>\n",
              "  </thead>\n",
              "  <tbody>\n",
              "    <tr>\n",
              "      <th>0</th>\n",
              "      <td>1</td>\n",
              "      <td>Ana Duarte</td>\n",
              "    </tr>\n",
              "    <tr>\n",
              "      <th>1</th>\n",
              "      <td>2</td>\n",
              "      <td>Daniel Siqueira</td>\n",
              "    </tr>\n",
              "    <tr>\n",
              "      <th>2</th>\n",
              "      <td>3</td>\n",
              "      <td>Nadia Oliveira</td>\n",
              "    </tr>\n",
              "    <tr>\n",
              "      <th>3</th>\n",
              "      <td>4</td>\n",
              "      <td>Millena Pereira</td>\n",
              "    </tr>\n",
              "    <tr>\n",
              "      <th>4</th>\n",
              "      <td>5</td>\n",
              "      <td>Paulo Calanca</td>\n",
              "    </tr>\n",
              "    <tr>\n",
              "      <th>5</th>\n",
              "      <td>6</td>\n",
              "      <td>Unknown</td>\n",
              "    </tr>\n",
              "  </tbody>\n",
              "</table>\n",
              "</div>"
            ],
            "text/plain": [
              "   vendedor_id  nombre_vendedor\n",
              "0            1       Ana Duarte\n",
              "1            2  Daniel Siqueira\n",
              "2            3   Nadia Oliveira\n",
              "3            4  Millena Pereira\n",
              "4            5    Paulo Calanca\n",
              "5            6          Unknown"
            ]
          },
          "execution_count": 144,
          "metadata": {},
          "output_type": "execute_result"
        }
      ],
      "source": [
        "df_vendedores.head(6)"
      ]
    },
    {
      "cell_type": "code",
      "execution_count": 145,
      "metadata": {},
      "outputs": [
        {
          "data": {
            "text/plain": [
              "45803930"
            ]
          },
          "execution_count": 145,
          "metadata": {},
          "output_type": "execute_result"
        }
      ],
      "source": [
        "df_itens_pedidos['valor_total'].sum() "
      ]
    },
    {
      "cell_type": "code",
      "execution_count": 146,
      "metadata": {},
      "outputs": [],
      "source": [
        "df_final = df_itens_pedidos.merge(df_pedidos, on=['producto_id', 'pedido_id']).merge(df_productos, on= 'producto_id').merge(df_vendedores, on='vendedor_id')"
      ]
    },
    {
      "cell_type": "code",
      "execution_count": 147,
      "metadata": {},
      "outputs": [
        {
          "data": {
            "text/html": [
              "<div>\n",
              "<style scoped>\n",
              "    .dataframe tbody tr th:only-of-type {\n",
              "        vertical-align: middle;\n",
              "    }\n",
              "\n",
              "    .dataframe tbody tr th {\n",
              "        vertical-align: top;\n",
              "    }\n",
              "\n",
              "    .dataframe thead th {\n",
              "        text-align: right;\n",
              "    }\n",
              "</style>\n",
              "<table border=\"1\" class=\"dataframe\">\n",
              "  <thead>\n",
              "    <tr style=\"text-align: right;\">\n",
              "      <th></th>\n",
              "      <th>id_recibo</th>\n",
              "      <th>producto_id</th>\n",
              "      <th>pedido_id</th>\n",
              "      <th>cantidad</th>\n",
              "      <th>valor_unitario</th>\n",
              "      <th>valor_total</th>\n",
              "      <th>ciudad</th>\n",
              "      <th>costo_envio</th>\n",
              "      <th>latitud</th>\n",
              "      <th>longitud</th>\n",
              "      <th>vendedor_id</th>\n",
              "      <th>fecha_compra</th>\n",
              "      <th>total</th>\n",
              "      <th>anio</th>\n",
              "      <th>mes</th>\n",
              "      <th>num_mes</th>\n",
              "      <th>producto</th>\n",
              "      <th>tipo_producto</th>\n",
              "      <th>precio</th>\n",
              "      <th>marca</th>\n",
              "      <th>sku</th>\n",
              "      <th>condicion</th>\n",
              "      <th>nombre_vendedor</th>\n",
              "    </tr>\n",
              "  </thead>\n",
              "  <tbody>\n",
              "    <tr>\n",
              "      <th>0</th>\n",
              "      <td>1</td>\n",
              "      <td>41518</td>\n",
              "      <td>341</td>\n",
              "      <td>3</td>\n",
              "      <td>260</td>\n",
              "      <td>780</td>\n",
              "      <td>Bahia</td>\n",
              "      <td>156.0</td>\n",
              "      <td>-12.9704</td>\n",
              "      <td>-38.5124</td>\n",
              "      <td>6</td>\n",
              "      <td>2019-01-05</td>\n",
              "      <td>780</td>\n",
              "      <td>2019</td>\n",
              "      <td>January</td>\n",
              "      <td>1</td>\n",
              "      <td>Calca Jeans Basica</td>\n",
              "      <td>Calca</td>\n",
              "      <td>260</td>\n",
              "      <td>Banana Republic</td>\n",
              "      <td>255410.0</td>\n",
              "      <td>Nuevo con etiqueta</td>\n",
              "      <td>Unknown</td>\n",
              "    </tr>\n",
              "    <tr>\n",
              "      <th>1</th>\n",
              "      <td>2</td>\n",
              "      <td>4307</td>\n",
              "      <td>1174</td>\n",
              "      <td>5</td>\n",
              "      <td>6175</td>\n",
              "      <td>30875</td>\n",
              "      <td>Rio de Janeiro</td>\n",
              "      <td>6175.0</td>\n",
              "      <td>-22.9068</td>\n",
              "      <td>-43.1729</td>\n",
              "      <td>3</td>\n",
              "      <td>2019-01-05</td>\n",
              "      <td>30875</td>\n",
              "      <td>2019</td>\n",
              "      <td>January</td>\n",
              "      <td>1</td>\n",
              "      <td>Bolsa Intrecciato Caramelo</td>\n",
              "      <td>Bolsa</td>\n",
              "      <td>6175</td>\n",
              "      <td>Bottega Veneta</td>\n",
              "      <td>301305.0</td>\n",
              "      <td>Usado</td>\n",
              "      <td>Nadia Oliveira</td>\n",
              "    </tr>\n",
              "    <tr>\n",
              "      <th>2</th>\n",
              "      <td>3</td>\n",
              "      <td>22407</td>\n",
              "      <td>1399</td>\n",
              "      <td>3</td>\n",
              "      <td>200</td>\n",
              "      <td>600</td>\n",
              "      <td>Paraíba</td>\n",
              "      <td>120.0</td>\n",
              "      <td>-7.2398</td>\n",
              "      <td>-36.7819</td>\n",
              "      <td>1</td>\n",
              "      <td>2019-01-05</td>\n",
              "      <td>600</td>\n",
              "      <td>2019</td>\n",
              "      <td>January</td>\n",
              "      <td>1</td>\n",
              "      <td>Cropped Listras Florzinhas</td>\n",
              "      <td>Cropped</td>\n",
              "      <td>200</td>\n",
              "      <td>Topshop</td>\n",
              "      <td>327426.0</td>\n",
              "      <td>Usado</td>\n",
              "      <td>Ana Duarte</td>\n",
              "    </tr>\n",
              "  </tbody>\n",
              "</table>\n",
              "</div>"
            ],
            "text/plain": [
              "   id_recibo  producto_id  pedido_id  cantidad  valor_unitario  valor_total  \\\n",
              "0          1        41518        341         3             260          780   \n",
              "1          2         4307       1174         5            6175        30875   \n",
              "2          3        22407       1399         3             200          600   \n",
              "\n",
              "           ciudad  costo_envio  latitud  longitud  vendedor_id fecha_compra  \\\n",
              "0           Bahia        156.0 -12.9704  -38.5124            6   2019-01-05   \n",
              "1  Rio de Janeiro       6175.0 -22.9068  -43.1729            3   2019-01-05   \n",
              "2         Paraíba        120.0  -7.2398  -36.7819            1   2019-01-05   \n",
              "\n",
              "   total  anio      mes  num_mes                    producto tipo_producto  \\\n",
              "0    780  2019  January        1          Calca Jeans Basica         Calca   \n",
              "1  30875  2019  January        1  Bolsa Intrecciato Caramelo         Bolsa   \n",
              "2    600  2019  January        1  Cropped Listras Florzinhas       Cropped   \n",
              "\n",
              "   precio            marca       sku           condicion nombre_vendedor  \n",
              "0     260  Banana Republic  255410.0  Nuevo con etiqueta         Unknown  \n",
              "1    6175   Bottega Veneta  301305.0               Usado  Nadia Oliveira  \n",
              "2     200          Topshop  327426.0               Usado      Ana Duarte  "
            ]
          },
          "execution_count": 147,
          "metadata": {},
          "output_type": "execute_result"
        }
      ],
      "source": [
        "df_final.head(3)"
      ]
    },
    {
      "cell_type": "markdown",
      "metadata": {},
      "source": [
        "se borran columnas que se repiten, precio y total"
      ]
    },
    {
      "cell_type": "code",
      "execution_count": 148,
      "metadata": {},
      "outputs": [],
      "source": [
        "df_final.drop(columns=['precio', 'total'], inplace=True)"
      ]
    },
    {
      "cell_type": "code",
      "execution_count": 149,
      "metadata": {},
      "outputs": [
        {
          "name": "stdout",
          "output_type": "stream",
          "text": [
            "<class 'pandas.core.frame.DataFrame'>\n",
            "RangeIndex: 24527 entries, 0 to 24526\n",
            "Data columns (total 21 columns):\n",
            " #   Column           Non-Null Count  Dtype         \n",
            "---  ------           --------------  -----         \n",
            " 0   id_recibo        24527 non-null  int64         \n",
            " 1   producto_id      24527 non-null  int64         \n",
            " 2   pedido_id        24527 non-null  int64         \n",
            " 3   cantidad         24527 non-null  int64         \n",
            " 4   valor_unitario   24527 non-null  int64         \n",
            " 5   valor_total      24527 non-null  int64         \n",
            " 6   ciudad           24527 non-null  object        \n",
            " 7   costo_envio      24527 non-null  float64       \n",
            " 8   latitud          24527 non-null  float64       \n",
            " 9   longitud         24527 non-null  float64       \n",
            " 10  vendedor_id      24527 non-null  int64         \n",
            " 11  fecha_compra     24527 non-null  datetime64[ns]\n",
            " 12  anio             24527 non-null  int32         \n",
            " 13  mes              24527 non-null  object        \n",
            " 14  num_mes          24527 non-null  int32         \n",
            " 15  producto         24527 non-null  object        \n",
            " 16  tipo_producto    24527 non-null  object        \n",
            " 17  marca            24527 non-null  object        \n",
            " 18  sku              24527 non-null  float64       \n",
            " 19  condicion        24527 non-null  object        \n",
            " 20  nombre_vendedor  24527 non-null  object        \n",
            "dtypes: datetime64[ns](1), float64(4), int32(2), int64(7), object(7)\n",
            "memory usage: 3.7+ MB\n"
          ]
        }
      ],
      "source": [
        "df_final.info()"
      ]
    },
    {
      "cell_type": "markdown",
      "metadata": {},
      "source": [
        "# EDA"
      ]
    },
    {
      "cell_type": "code",
      "execution_count": 150,
      "metadata": {},
      "outputs": [
        {
          "data": {
            "text/html": [
              "<div>\n",
              "<style scoped>\n",
              "    .dataframe tbody tr th:only-of-type {\n",
              "        vertical-align: middle;\n",
              "    }\n",
              "\n",
              "    .dataframe tbody tr th {\n",
              "        vertical-align: top;\n",
              "    }\n",
              "\n",
              "    .dataframe thead th {\n",
              "        text-align: right;\n",
              "    }\n",
              "</style>\n",
              "<table border=\"1\" class=\"dataframe\">\n",
              "  <thead>\n",
              "    <tr style=\"text-align: right;\">\n",
              "      <th></th>\n",
              "      <th>id_recibo</th>\n",
              "      <th>producto_id</th>\n",
              "      <th>pedido_id</th>\n",
              "      <th>cantidad</th>\n",
              "      <th>valor_unitario</th>\n",
              "      <th>valor_total</th>\n",
              "      <th>costo_envio</th>\n",
              "      <th>latitud</th>\n",
              "      <th>longitud</th>\n",
              "      <th>vendedor_id</th>\n",
              "      <th>fecha_compra</th>\n",
              "      <th>anio</th>\n",
              "      <th>num_mes</th>\n",
              "      <th>sku</th>\n",
              "    </tr>\n",
              "  </thead>\n",
              "  <tbody>\n",
              "    <tr>\n",
              "      <th>count</th>\n",
              "      <td>24527.000000</td>\n",
              "      <td>24527.000000</td>\n",
              "      <td>24527.000000</td>\n",
              "      <td>24527.000000</td>\n",
              "      <td>24527.00000</td>\n",
              "      <td>24527.000000</td>\n",
              "      <td>24527.000000</td>\n",
              "      <td>24527.000000</td>\n",
              "      <td>24527.000000</td>\n",
              "      <td>24527.000000</td>\n",
              "      <td>24527</td>\n",
              "      <td>24527.000000</td>\n",
              "      <td>24527.000000</td>\n",
              "      <td>24527.000000</td>\n",
              "    </tr>\n",
              "    <tr>\n",
              "      <th>mean</th>\n",
              "      <td>12405.414278</td>\n",
              "      <td>44627.641171</td>\n",
              "      <td>69931.383088</td>\n",
              "      <td>3.497126</td>\n",
              "      <td>535.68867</td>\n",
              "      <td>1867.490113</td>\n",
              "      <td>373.498023</td>\n",
              "      <td>-12.332892</td>\n",
              "      <td>-47.389147</td>\n",
              "      <td>2.975782</td>\n",
              "      <td>2020-04-02 12:10:46.406001664</td>\n",
              "      <td>2019.741020</td>\n",
              "      <td>6.676887</td>\n",
              "      <td>302916.864802</td>\n",
              "    </tr>\n",
              "    <tr>\n",
              "      <th>min</th>\n",
              "      <td>1.000000</td>\n",
              "      <td>2706.000000</td>\n",
              "      <td>1.000000</td>\n",
              "      <td>1.000000</td>\n",
              "      <td>45.00000</td>\n",
              "      <td>45.000000</td>\n",
              "      <td>9.000000</td>\n",
              "      <td>-30.034600</td>\n",
              "      <td>-70.812000</td>\n",
              "      <td>1.000000</td>\n",
              "      <td>2019-01-05 00:00:00</td>\n",
              "      <td>2019.000000</td>\n",
              "      <td>1.000000</td>\n",
              "      <td>101494.000000</td>\n",
              "    </tr>\n",
              "    <tr>\n",
              "      <th>25%</th>\n",
              "      <td>6132.500000</td>\n",
              "      <td>17258.000000</td>\n",
              "      <td>34487.000000</td>\n",
              "      <td>2.000000</td>\n",
              "      <td>210.00000</td>\n",
              "      <td>520.000000</td>\n",
              "      <td>104.000000</td>\n",
              "      <td>-20.315500</td>\n",
              "      <td>-52.021500</td>\n",
              "      <td>2.000000</td>\n",
              "      <td>2019-11-12 00:00:00</td>\n",
              "      <td>2019.000000</td>\n",
              "      <td>3.000000</td>\n",
              "      <td>222028.000000</td>\n",
              "    </tr>\n",
              "    <tr>\n",
              "      <th>50%</th>\n",
              "      <td>12264.000000</td>\n",
              "      <td>42913.000000</td>\n",
              "      <td>69945.000000</td>\n",
              "      <td>4.000000</td>\n",
              "      <td>336.00000</td>\n",
              "      <td>1050.000000</td>\n",
              "      <td>210.000000</td>\n",
              "      <td>-10.252700</td>\n",
              "      <td>-47.882800</td>\n",
              "      <td>3.000000</td>\n",
              "      <td>2020-04-09 00:00:00</td>\n",
              "      <td>2020.000000</td>\n",
              "      <td>7.000000</td>\n",
              "      <td>263899.000000</td>\n",
              "    </tr>\n",
              "    <tr>\n",
              "      <th>75%</th>\n",
              "      <td>18689.500000</td>\n",
              "      <td>70673.000000</td>\n",
              "      <td>105355.000000</td>\n",
              "      <td>5.000000</td>\n",
              "      <td>450.00000</td>\n",
              "      <td>1920.000000</td>\n",
              "      <td>384.000000</td>\n",
              "      <td>-5.089200</td>\n",
              "      <td>-38.543400</td>\n",
              "      <td>4.000000</td>\n",
              "      <td>2020-09-21 00:00:00</td>\n",
              "      <td>2020.000000</td>\n",
              "      <td>10.000000</td>\n",
              "      <td>304828.000000</td>\n",
              "    </tr>\n",
              "    <tr>\n",
              "      <th>max</th>\n",
              "      <td>25055.000000</td>\n",
              "      <td>100983.000000</td>\n",
              "      <td>139993.000000</td>\n",
              "      <td>6.000000</td>\n",
              "      <td>6500.00000</td>\n",
              "      <td>39000.000000</td>\n",
              "      <td>7800.000000</td>\n",
              "      <td>2.823500</td>\n",
              "      <td>-34.877000</td>\n",
              "      <td>6.000000</td>\n",
              "      <td>2021-03-10 00:00:00</td>\n",
              "      <td>2021.000000</td>\n",
              "      <td>12.000000</td>\n",
              "      <td>952821.000000</td>\n",
              "    </tr>\n",
              "    <tr>\n",
              "      <th>std</th>\n",
              "      <td>7242.697484</td>\n",
              "      <td>29347.824879</td>\n",
              "      <td>40560.769565</td>\n",
              "      <td>1.706170</td>\n",
              "      <td>839.21405</td>\n",
              "      <td>3379.681887</td>\n",
              "      <td>675.936377</td>\n",
              "      <td>8.829049</td>\n",
              "      <td>9.068160</td>\n",
              "      <td>1.442412</td>\n",
              "      <td>NaN</td>\n",
              "      <td>0.583029</td>\n",
              "      <td>3.698035</td>\n",
              "      <td>186964.667915</td>\n",
              "    </tr>\n",
              "  </tbody>\n",
              "</table>\n",
              "</div>"
            ],
            "text/plain": [
              "          id_recibo    producto_id      pedido_id      cantidad  \\\n",
              "count  24527.000000   24527.000000   24527.000000  24527.000000   \n",
              "mean   12405.414278   44627.641171   69931.383088      3.497126   \n",
              "min        1.000000    2706.000000       1.000000      1.000000   \n",
              "25%     6132.500000   17258.000000   34487.000000      2.000000   \n",
              "50%    12264.000000   42913.000000   69945.000000      4.000000   \n",
              "75%    18689.500000   70673.000000  105355.000000      5.000000   \n",
              "max    25055.000000  100983.000000  139993.000000      6.000000   \n",
              "std     7242.697484   29347.824879   40560.769565      1.706170   \n",
              "\n",
              "       valor_unitario   valor_total   costo_envio       latitud      longitud  \\\n",
              "count     24527.00000  24527.000000  24527.000000  24527.000000  24527.000000   \n",
              "mean        535.68867   1867.490113    373.498023    -12.332892    -47.389147   \n",
              "min          45.00000     45.000000      9.000000    -30.034600    -70.812000   \n",
              "25%         210.00000    520.000000    104.000000    -20.315500    -52.021500   \n",
              "50%         336.00000   1050.000000    210.000000    -10.252700    -47.882800   \n",
              "75%         450.00000   1920.000000    384.000000     -5.089200    -38.543400   \n",
              "max        6500.00000  39000.000000   7800.000000      2.823500    -34.877000   \n",
              "std         839.21405   3379.681887    675.936377      8.829049      9.068160   \n",
              "\n",
              "        vendedor_id                   fecha_compra          anio  \\\n",
              "count  24527.000000                          24527  24527.000000   \n",
              "mean       2.975782  2020-04-02 12:10:46.406001664   2019.741020   \n",
              "min        1.000000            2019-01-05 00:00:00   2019.000000   \n",
              "25%        2.000000            2019-11-12 00:00:00   2019.000000   \n",
              "50%        3.000000            2020-04-09 00:00:00   2020.000000   \n",
              "75%        4.000000            2020-09-21 00:00:00   2020.000000   \n",
              "max        6.000000            2021-03-10 00:00:00   2021.000000   \n",
              "std        1.442412                            NaN      0.583029   \n",
              "\n",
              "            num_mes            sku  \n",
              "count  24527.000000   24527.000000  \n",
              "mean       6.676887  302916.864802  \n",
              "min        1.000000  101494.000000  \n",
              "25%        3.000000  222028.000000  \n",
              "50%        7.000000  263899.000000  \n",
              "75%       10.000000  304828.000000  \n",
              "max       12.000000  952821.000000  \n",
              "std        3.698035  186964.667915  "
            ]
          },
          "execution_count": 150,
          "metadata": {},
          "output_type": "execute_result"
        }
      ],
      "source": [
        "df_final.describe()"
      ]
    },
    {
      "cell_type": "markdown",
      "metadata": {},
      "source": [
        "# Graficas\n",
        "distribucion de los productos vendidos"
      ]
    },
    {
      "cell_type": "code",
      "execution_count": 151,
      "metadata": {},
      "outputs": [
        {
          "data": {
            "text/html": [
              "<div>\n",
              "<style scoped>\n",
              "    .dataframe tbody tr th:only-of-type {\n",
              "        vertical-align: middle;\n",
              "    }\n",
              "\n",
              "    .dataframe tbody tr th {\n",
              "        vertical-align: top;\n",
              "    }\n",
              "\n",
              "    .dataframe thead th {\n",
              "        text-align: right;\n",
              "    }\n",
              "</style>\n",
              "<table border=\"1\" class=\"dataframe\">\n",
              "  <thead>\n",
              "    <tr style=\"text-align: right;\">\n",
              "      <th></th>\n",
              "      <th>id_recibo</th>\n",
              "      <th>producto_id</th>\n",
              "      <th>pedido_id</th>\n",
              "      <th>cantidad</th>\n",
              "      <th>valor_unitario</th>\n",
              "      <th>valor_total</th>\n",
              "      <th>ciudad</th>\n",
              "      <th>costo_envio</th>\n",
              "      <th>latitud</th>\n",
              "      <th>longitud</th>\n",
              "      <th>vendedor_id</th>\n",
              "      <th>fecha_compra</th>\n",
              "      <th>anio</th>\n",
              "      <th>mes</th>\n",
              "      <th>num_mes</th>\n",
              "      <th>producto</th>\n",
              "      <th>tipo_producto</th>\n",
              "      <th>marca</th>\n",
              "      <th>sku</th>\n",
              "      <th>condicion</th>\n",
              "      <th>nombre_vendedor</th>\n",
              "    </tr>\n",
              "  </thead>\n",
              "  <tbody>\n",
              "    <tr>\n",
              "      <th>0</th>\n",
              "      <td>1</td>\n",
              "      <td>41518</td>\n",
              "      <td>341</td>\n",
              "      <td>3</td>\n",
              "      <td>260</td>\n",
              "      <td>780</td>\n",
              "      <td>Bahia</td>\n",
              "      <td>156.0</td>\n",
              "      <td>-12.9704</td>\n",
              "      <td>-38.5124</td>\n",
              "      <td>6</td>\n",
              "      <td>2019-01-05</td>\n",
              "      <td>2019</td>\n",
              "      <td>January</td>\n",
              "      <td>1</td>\n",
              "      <td>Calca Jeans Basica</td>\n",
              "      <td>Calca</td>\n",
              "      <td>Banana Republic</td>\n",
              "      <td>255410.0</td>\n",
              "      <td>Nuevo con etiqueta</td>\n",
              "      <td>Unknown</td>\n",
              "    </tr>\n",
              "    <tr>\n",
              "      <th>1</th>\n",
              "      <td>2</td>\n",
              "      <td>4307</td>\n",
              "      <td>1174</td>\n",
              "      <td>5</td>\n",
              "      <td>6175</td>\n",
              "      <td>30875</td>\n",
              "      <td>Rio de Janeiro</td>\n",
              "      <td>6175.0</td>\n",
              "      <td>-22.9068</td>\n",
              "      <td>-43.1729</td>\n",
              "      <td>3</td>\n",
              "      <td>2019-01-05</td>\n",
              "      <td>2019</td>\n",
              "      <td>January</td>\n",
              "      <td>1</td>\n",
              "      <td>Bolsa Intrecciato Caramelo</td>\n",
              "      <td>Bolsa</td>\n",
              "      <td>Bottega Veneta</td>\n",
              "      <td>301305.0</td>\n",
              "      <td>Usado</td>\n",
              "      <td>Nadia Oliveira</td>\n",
              "    </tr>\n",
              "  </tbody>\n",
              "</table>\n",
              "</div>"
            ],
            "text/plain": [
              "   id_recibo  producto_id  pedido_id  cantidad  valor_unitario  valor_total  \\\n",
              "0          1        41518        341         3             260          780   \n",
              "1          2         4307       1174         5            6175        30875   \n",
              "\n",
              "           ciudad  costo_envio  latitud  longitud  vendedor_id fecha_compra  \\\n",
              "0           Bahia        156.0 -12.9704  -38.5124            6   2019-01-05   \n",
              "1  Rio de Janeiro       6175.0 -22.9068  -43.1729            3   2019-01-05   \n",
              "\n",
              "   anio      mes  num_mes                    producto tipo_producto  \\\n",
              "0  2019  January        1          Calca Jeans Basica         Calca   \n",
              "1  2019  January        1  Bolsa Intrecciato Caramelo         Bolsa   \n",
              "\n",
              "             marca       sku           condicion nombre_vendedor  \n",
              "0  Banana Republic  255410.0  Nuevo con etiqueta         Unknown  \n",
              "1   Bottega Veneta  301305.0               Usado  Nadia Oliveira  "
            ]
          },
          "execution_count": 151,
          "metadata": {},
          "output_type": "execute_result"
        }
      ],
      "source": [
        "df_final.head(2)"
      ]
    },
    {
      "cell_type": "code",
      "execution_count": 152,
      "metadata": {},
      "outputs": [
        {
          "data": {
            "text/plain": [
              "39"
            ]
          },
          "execution_count": 152,
          "metadata": {},
          "output_type": "execute_result"
        }
      ],
      "source": [
        "df_final['tipo_producto'].nunique()"
      ]
    },
    {
      "cell_type": "code",
      "execution_count": 153,
      "metadata": {},
      "outputs": [
        {
          "data": {
            "text/html": [
              "<div>\n",
              "<style scoped>\n",
              "    .dataframe tbody tr th:only-of-type {\n",
              "        vertical-align: middle;\n",
              "    }\n",
              "\n",
              "    .dataframe tbody tr th {\n",
              "        vertical-align: top;\n",
              "    }\n",
              "\n",
              "    .dataframe thead th {\n",
              "        text-align: right;\n",
              "    }\n",
              "</style>\n",
              "<table border=\"1\" class=\"dataframe\">\n",
              "  <thead>\n",
              "    <tr style=\"text-align: right;\">\n",
              "      <th></th>\n",
              "      <th>tipo_producto</th>\n",
              "      <th>cantidad</th>\n",
              "    </tr>\n",
              "  </thead>\n",
              "  <tbody>\n",
              "    <tr>\n",
              "      <th>0</th>\n",
              "      <td>Vestido</td>\n",
              "      <td>18483</td>\n",
              "    </tr>\n",
              "    <tr>\n",
              "      <th>1</th>\n",
              "      <td>Blusa</td>\n",
              "      <td>9822</td>\n",
              "    </tr>\n",
              "    <tr>\n",
              "      <th>2</th>\n",
              "      <td>Calca</td>\n",
              "      <td>9674</td>\n",
              "    </tr>\n",
              "    <tr>\n",
              "      <th>3</th>\n",
              "      <td>Saia</td>\n",
              "      <td>7181</td>\n",
              "    </tr>\n",
              "    <tr>\n",
              "      <th>4</th>\n",
              "      <td>Camisa</td>\n",
              "      <td>4792</td>\n",
              "    </tr>\n",
              "  </tbody>\n",
              "</table>\n",
              "</div>"
            ],
            "text/plain": [
              "  tipo_producto  cantidad\n",
              "0       Vestido     18483\n",
              "1         Blusa      9822\n",
              "2         Calca      9674\n",
              "3          Saia      7181\n",
              "4        Camisa      4792"
            ]
          },
          "execution_count": 153,
          "metadata": {},
          "output_type": "execute_result"
        }
      ],
      "source": [
        "df_vendidos = df_final.groupby('tipo_producto')['cantidad'].sum().sort_values(ascending=False).reset_index().head(10)\n",
        "df_vendidos.head(5)"
      ]
    },
    {
      "cell_type": "code",
      "execution_count": 154,
      "metadata": {},
      "outputs": [],
      "source": [
        "def grafico_barras(x, y, titulo, subtitulo, x_label, y_label):\n",
        "    fig, ax = plt.subplots()\n",
        "    plt.subplots_adjust(top=0.90) \n",
        "    ax.bar(x, y,color='#4CAF50', edgecolor='black')\n",
        "    ax.grid(axis = 'y', linestyle='--', linewidth=1.2)\n",
        "    fig.patch.set_facecolor('lightgrey')\n",
        "    fig.suptitle(titulo, fontsize=16, fontweight='bold', y=1.05)\n",
        "    fig.text(0.5, 0.95, subtitulo, ha='center', fontsize=10)\n",
        "    ax.set_xlabel(x_label, fontsize=12, fontweight='bold')\n",
        "    ax.set_ylabel(y_label, fontsize=12, fontweight='bold')\n",
        "    plt.xticks(rotation=90);\n"
      ]
    },
    {
      "cell_type": "code",
      "execution_count": 155,
      "metadata": {},
      "outputs": [
        {
          "data": {
            "image/png": "[encoded data removed]",
            "text/plain": [
              "<Figure size 640x480 with 1 Axes>"
            ]
          },
          "metadata": {},
          "output_type": "display_data"
        }
      ],
      "source": [
        "grafico_barras(df_vendidos['tipo_producto'], df_vendidos['cantidad'], 'Distribucion de productos mas vendidos', 'Periodo: Enero 2019 - Marzo 2021', 'Tipos de producto', 'Cantidad Vendida' )"
      ]
    },
    {
      "cell_type": "markdown",
      "metadata": {},
      "source": [
        "Distribución de ciudades con mas productos vendidos"
      ]
    },
    {
      "cell_type": "code",
      "execution_count": 156,
      "metadata": {},
      "outputs": [
        {
          "data": {
            "text/html": [
              "<div>\n",
              "<style scoped>\n",
              "    .dataframe tbody tr th:only-of-type {\n",
              "        vertical-align: middle;\n",
              "    }\n",
              "\n",
              "    .dataframe tbody tr th {\n",
              "        vertical-align: top;\n",
              "    }\n",
              "\n",
              "    .dataframe thead th {\n",
              "        text-align: right;\n",
              "    }\n",
              "</style>\n",
              "<table border=\"1\" class=\"dataframe\">\n",
              "  <thead>\n",
              "    <tr style=\"text-align: right;\">\n",
              "      <th></th>\n",
              "      <th>ciudad</th>\n",
              "      <th>valor_total</th>\n",
              "    </tr>\n",
              "  </thead>\n",
              "  <tbody>\n",
              "    <tr>\n",
              "      <th>0</th>\n",
              "      <td>Alagoas</td>\n",
              "      <td>1902520</td>\n",
              "    </tr>\n",
              "    <tr>\n",
              "      <th>1</th>\n",
              "      <td>Pernambuco</td>\n",
              "      <td>1886497</td>\n",
              "    </tr>\n",
              "    <tr>\n",
              "      <th>2</th>\n",
              "      <td>Santa Catarina</td>\n",
              "      <td>1846203</td>\n",
              "    </tr>\n",
              "    <tr>\n",
              "      <th>3</th>\n",
              "      <td>Amapá</td>\n",
              "      <td>1844672</td>\n",
              "    </tr>\n",
              "    <tr>\n",
              "      <th>4</th>\n",
              "      <td>Ceará</td>\n",
              "      <td>1835101</td>\n",
              "    </tr>\n",
              "  </tbody>\n",
              "</table>\n",
              "</div>"
            ],
            "text/plain": [
              "           ciudad  valor_total\n",
              "0         Alagoas      1902520\n",
              "1      Pernambuco      1886497\n",
              "2  Santa Catarina      1846203\n",
              "3           Amapá      1844672\n",
              "4           Ceará      1835101"
            ]
          },
          "execution_count": 156,
          "metadata": {},
          "output_type": "execute_result"
        }
      ],
      "source": [
        "df_ciudades = df_final.groupby('ciudad')['valor_total'].sum().sort_values(ascending=False).reset_index()\n",
        "df_ciudades.head()"
      ]
    },
    {
      "cell_type": "code",
      "execution_count": 157,
      "metadata": {},
      "outputs": [
        {
          "data": {
            "image/png": "[encoded data removed]",
            "text/plain": [
              "<Figure size 640x480 with 1 Axes>"
            ]
          },
          "metadata": {},
          "output_type": "display_data"
        }
      ],
      "source": [
        "grafico_barras(df_ciudades['ciudad'], df_ciudades['valor_total'], 'distribución de ventas en dinero por ciudad', 'Periodo: Enero 2019 - Marzo 2021' , 'Ciudad', 'Cantidad recaudada')"
      ]
    },
    {
      "cell_type": "markdown",
      "metadata": {},
      "source": [
        "Condición de los articulos que se venden"
      ]
    },
    {
      "cell_type": "code",
      "execution_count": 158,
      "metadata": {},
      "outputs": [
        {
          "data": {
            "text/html": [
              "<div>\n",
              "<style scoped>\n",
              "    .dataframe tbody tr th:only-of-type {\n",
              "        vertical-align: middle;\n",
              "    }\n",
              "\n",
              "    .dataframe tbody tr th {\n",
              "        vertical-align: top;\n",
              "    }\n",
              "\n",
              "    .dataframe thead th {\n",
              "        text-align: right;\n",
              "    }\n",
              "</style>\n",
              "<table border=\"1\" class=\"dataframe\">\n",
              "  <thead>\n",
              "    <tr style=\"text-align: right;\">\n",
              "      <th></th>\n",
              "      <th>condicion</th>\n",
              "      <th>count</th>\n",
              "    </tr>\n",
              "  </thead>\n",
              "  <tbody>\n",
              "    <tr>\n",
              "      <th>0</th>\n",
              "      <td>Usado</td>\n",
              "      <td>21050</td>\n",
              "    </tr>\n",
              "    <tr>\n",
              "      <th>1</th>\n",
              "      <td>Nuevo con etiqueta</td>\n",
              "      <td>2606</td>\n",
              "    </tr>\n",
              "    <tr>\n",
              "      <th>2</th>\n",
              "      <td>Nuevo sin etiqueta</td>\n",
              "      <td>871</td>\n",
              "    </tr>\n",
              "  </tbody>\n",
              "</table>\n",
              "</div>"
            ],
            "text/plain": [
              "            condicion  count\n",
              "0               Usado  21050\n",
              "1  Nuevo con etiqueta   2606\n",
              "2  Nuevo sin etiqueta    871"
            ]
          },
          "execution_count": 158,
          "metadata": {},
          "output_type": "execute_result"
        }
      ],
      "source": [
        "condicion = df_final['condicion'].value_counts().reset_index()\n",
        "condicion"
      ]
    },
    {
      "cell_type": "markdown",
      "metadata": {},
      "source": [
        "Grafico de pie"
      ]
    },
    {
      "cell_type": "code",
      "execution_count": 159,
      "metadata": {},
      "outputs": [
        {
          "data": {
            "image/png": "[encoded data removed]",
            "text/plain": [
              "<Figure size 800x600 with 1 Axes>"
            ]
          },
          "metadata": {},
          "output_type": "display_data"
        }
      ],
      "source": [
        "# Datos (asumiendo que tienes un DataFrame llamado df)\n",
        "etiquetas = condicion['condicion']\n",
        "valores = condicion['count']\n",
        "\n",
        "# Colores personalizados\n",
        "colores = ['#1f77b4', '#ff7f0e', '#2ca02c']  # Azul, naranja, verde\n",
        "\n",
        "# Crear la figura y los ejes\n",
        "fig, ax = plt.subplots(figsize=(8, 6))  # Ajustar el tamaño del gráfico\n",
        "\n",
        "# Crear el gráfico de pie\n",
        "wedges, texts, autotexts = ax.pie(valores, labels=etiquetas, autopct='%1.1f%%', startangle=90, colors=colores,\n",
        "                                 wedgeprops=dict(width=1), textprops=dict(color=\"w\"))\n",
        "\n",
        "# Título y subtítulo\n",
        "ax.set_title('Distribución de la condición de los Productos vendidos', fontsize=14, fontweight='bold')\n",
        "fig.text(0.5, 0.85, 'Periodo: Enero 2019 - Marzo 2021', ha='center', fontsize=10)\n",
        "ax.text(0.2, -0.05, 'Fuente: Datos de ventas internas', ha='center', fontsize=10, fontdict= dict(color=\"w\"))\n",
        "\n",
        "# Ajustar el tamaño del texto de los porcentajes\n",
        "plt.setp(autotexts, size=10, weight=\"bold\")\n",
        "\n",
        "ax.legend(wedges, etiquetas, title=\"Condición\", loc=\"center left\", bbox_to_anchor=(1, 0, 0.5, 1))\n",
        "\n",
        "# Mostrar el gráfico\n",
        "plt.show()\n"
      ]
    },
    {
      "cell_type": "markdown",
      "metadata": {},
      "source": [
        "### **Preguntas**\n",
        "\n",
        "\n",
        "\n",
        "\n"
      ]
    },
    {
      "cell_type": "markdown",
      "metadata": {},
      "source": [
        "1. ¿Cual es el Top 5 productos más vendidos históricamente?"
      ]
    },
    {
      "cell_type": "code",
      "execution_count": 160,
      "metadata": {},
      "outputs": [
        {
          "data": {
            "text/html": [
              "<div>\n",
              "<style scoped>\n",
              "    .dataframe tbody tr th:only-of-type {\n",
              "        vertical-align: middle;\n",
              "    }\n",
              "\n",
              "    .dataframe tbody tr th {\n",
              "        vertical-align: top;\n",
              "    }\n",
              "\n",
              "    .dataframe thead th {\n",
              "        text-align: right;\n",
              "    }\n",
              "</style>\n",
              "<table border=\"1\" class=\"dataframe\">\n",
              "  <thead>\n",
              "    <tr style=\"text-align: right;\">\n",
              "      <th></th>\n",
              "      <th>producto</th>\n",
              "      <th>cantidad</th>\n",
              "    </tr>\n",
              "  </thead>\n",
              "  <tbody>\n",
              "    <tr>\n",
              "      <th>0</th>\n",
              "      <td>Vestido Recortes Cores</td>\n",
              "      <td>795</td>\n",
              "    </tr>\n",
              "    <tr>\n",
              "      <th>1</th>\n",
              "      <td>Calca Jeans Costuras</td>\n",
              "      <td>755</td>\n",
              "    </tr>\n",
              "    <tr>\n",
              "      <th>2</th>\n",
              "      <td>Saia Pregas Preta</td>\n",
              "      <td>751</td>\n",
              "    </tr>\n",
              "    <tr>\n",
              "      <th>3</th>\n",
              "      <td>Calca Alfaiataria Preta</td>\n",
              "      <td>750</td>\n",
              "    </tr>\n",
              "    <tr>\n",
              "      <th>4</th>\n",
              "      <td>Saia Midi Cinto</td>\n",
              "      <td>549</td>\n",
              "    </tr>\n",
              "  </tbody>\n",
              "</table>\n",
              "</div>"
            ],
            "text/plain": [
              "                  producto  cantidad\n",
              "0   Vestido Recortes Cores       795\n",
              "1     Calca Jeans Costuras       755\n",
              "2        Saia Pregas Preta       751\n",
              "3  Calca Alfaiataria Preta       750\n",
              "4          Saia Midi Cinto       549"
            ]
          },
          "execution_count": 160,
          "metadata": {},
          "output_type": "execute_result"
        }
      ],
      "source": [
        "\n",
        "df_prod_mas_vendidos = df_final.groupby('producto')['cantidad'].sum().sort_values(ascending=False).reset_index().head(5)\n",
        "df_prod_mas_vendidos"
      ]
    },
    {
      "cell_type": "markdown",
      "metadata": {},
      "source": [
        "grafica de dichos productos"
      ]
    },
    {
      "cell_type": "code",
      "execution_count": 161,
      "metadata": {},
      "outputs": [
        {
          "data": {
            "image/png": "[encoded data removed]",
            "text/plain": [
              "<Figure size 640x480 with 1 Axes>"
            ]
          },
          "metadata": {},
          "output_type": "display_data"
        }
      ],
      "source": [
        "grafico_barras(df_prod_mas_vendidos['producto'], df_prod_mas_vendidos['cantidad'], 'Top 5 de los pructos mas vendidos históricamente', 'Periodo: Enero 2019 - Marzo 2021', 'productos', 'cantidad')"
      ]
    },
    {
      "cell_type": "markdown",
      "metadata": {},
      "source": [
        "2. ¿Cual es la evolución histórica de las ingresos netos?"
      ]
    },
    {
      "cell_type": "markdown",
      "metadata": {},
      "source": [
        "Se crea otra columna con los ingresos netos, la cual resulta de restar al valor total el costo de envio del producto"
      ]
    },
    {
      "cell_type": "code",
      "execution_count": 162,
      "metadata": {},
      "outputs": [],
      "source": [
        "df_final['ingreso_neto'] = df_final['valor_total'] - df_final['costo_envio']"
      ]
    },
    {
      "cell_type": "markdown",
      "metadata": {},
      "source": [
        "Creamos un DataFrame agrupando la suma de todas las ganancias netas por mes"
      ]
    },
    {
      "cell_type": "code",
      "execution_count": 163,
      "metadata": {},
      "outputs": [
        {
          "data": {
            "text/html": [
              "<div>\n",
              "<style scoped>\n",
              "    .dataframe tbody tr th:only-of-type {\n",
              "        vertical-align: middle;\n",
              "    }\n",
              "\n",
              "    .dataframe tbody tr th {\n",
              "        vertical-align: top;\n",
              "    }\n",
              "\n",
              "    .dataframe thead th {\n",
              "        text-align: right;\n",
              "    }\n",
              "</style>\n",
              "<table border=\"1\" class=\"dataframe\">\n",
              "  <thead>\n",
              "    <tr style=\"text-align: right;\">\n",
              "      <th></th>\n",
              "      <th>fecha_compra</th>\n",
              "      <th>ingreso_neto</th>\n",
              "    </tr>\n",
              "  </thead>\n",
              "  <tbody>\n",
              "    <tr>\n",
              "      <th>23</th>\n",
              "      <td>2020-12-31</td>\n",
              "      <td>2763424.8</td>\n",
              "    </tr>\n",
              "    <tr>\n",
              "      <th>24</th>\n",
              "      <td>2021-01-31</td>\n",
              "      <td>1677687.2</td>\n",
              "    </tr>\n",
              "    <tr>\n",
              "      <th>25</th>\n",
              "      <td>2021-02-28</td>\n",
              "      <td>912583.2</td>\n",
              "    </tr>\n",
              "    <tr>\n",
              "      <th>26</th>\n",
              "      <td>2021-03-31</td>\n",
              "      <td>41220.0</td>\n",
              "    </tr>\n",
              "  </tbody>\n",
              "</table>\n",
              "</div>"
            ],
            "text/plain": [
              "   fecha_compra  ingreso_neto\n",
              "23   2020-12-31     2763424.8\n",
              "24   2021-01-31     1677687.2\n",
              "25   2021-02-28      912583.2\n",
              "26   2021-03-31       41220.0"
            ]
          },
          "execution_count": 163,
          "metadata": {},
          "output_type": "execute_result"
        }
      ],
      "source": [
        "df_ingreso_neto = df_final[['fecha_compra', 'ingreso_neto']].groupby(pd.Grouper(key= 'fecha_compra', freq='ME')).sum().reset_index()\n",
        "df_ingreso_neto.tail(4)"
      ]
    },
    {
      "cell_type": "markdown",
      "metadata": {},
      "source": [
        "Grafico de linea"
      ]
    },
    {
      "cell_type": "code",
      "execution_count": 164,
      "metadata": {},
      "outputs": [
        {
          "data": {
            "image/png": "[encoded data removed]",
            "text/plain": [
              "<Figure size 1500x600 with 1 Axes>"
            ]
          },
          "metadata": {},
          "output_type": "display_data"
        }
      ],
      "source": [
        "import seaborn as sns # type: ignore\n",
        "sns.set_palette('Accent')\n",
        "sns.set_style('darkgrid')\n",
        "ax =sns.lineplot(x = 'fecha_compra', y = 'ingreso_neto', data = df_ingreso_neto)\n",
        "ax.figure.set_size_inches(15,6)\n",
        "ax.set_title('Comportamiento de las ventas a lo largo de los meses (2019-2021)', loc='center', fontsize = 16,  fontweight='bold')\n",
        "ax.set_xlabel('Meses', fontsize = 14, fontweight='bold')\n",
        "ax.set_ylabel('ingresos netos', fontsize = 14, fontweight='bold')\n",
        "ax = ax"
      ]
    },
    {
      "cell_type": "markdown",
      "metadata": {},
      "source": [
        "\n",
        "3. ¿Cuáles son los ingresos netos por vendedor por año?\n",
        "\n"
      ]
    },
    {
      "cell_type": "code",
      "execution_count": 165,
      "metadata": {},
      "outputs": [
        {
          "data": {
            "text/html": [
              "<div>\n",
              "<style scoped>\n",
              "    .dataframe tbody tr th:only-of-type {\n",
              "        vertical-align: middle;\n",
              "    }\n",
              "\n",
              "    .dataframe tbody tr th {\n",
              "        vertical-align: top;\n",
              "    }\n",
              "\n",
              "    .dataframe thead th {\n",
              "        text-align: right;\n",
              "    }\n",
              "</style>\n",
              "<table border=\"1\" class=\"dataframe\">\n",
              "  <thead>\n",
              "    <tr style=\"text-align: right;\">\n",
              "      <th></th>\n",
              "      <th>id_recibo</th>\n",
              "      <th>producto_id</th>\n",
              "      <th>pedido_id</th>\n",
              "      <th>cantidad</th>\n",
              "      <th>valor_unitario</th>\n",
              "      <th>valor_total</th>\n",
              "      <th>ciudad</th>\n",
              "      <th>costo_envio</th>\n",
              "      <th>latitud</th>\n",
              "      <th>longitud</th>\n",
              "      <th>vendedor_id</th>\n",
              "      <th>fecha_compra</th>\n",
              "      <th>anio</th>\n",
              "      <th>mes</th>\n",
              "      <th>num_mes</th>\n",
              "      <th>producto</th>\n",
              "      <th>tipo_producto</th>\n",
              "      <th>marca</th>\n",
              "      <th>sku</th>\n",
              "      <th>condicion</th>\n",
              "      <th>nombre_vendedor</th>\n",
              "      <th>ingreso_neto</th>\n",
              "    </tr>\n",
              "  </thead>\n",
              "  <tbody>\n",
              "    <tr>\n",
              "      <th>0</th>\n",
              "      <td>1</td>\n",
              "      <td>41518</td>\n",
              "      <td>341</td>\n",
              "      <td>3</td>\n",
              "      <td>260</td>\n",
              "      <td>780</td>\n",
              "      <td>Bahia</td>\n",
              "      <td>156.0</td>\n",
              "      <td>-12.9704</td>\n",
              "      <td>-38.5124</td>\n",
              "      <td>6</td>\n",
              "      <td>2019-01-05</td>\n",
              "      <td>2019</td>\n",
              "      <td>January</td>\n",
              "      <td>1</td>\n",
              "      <td>Calca Jeans Basica</td>\n",
              "      <td>Calca</td>\n",
              "      <td>Banana Republic</td>\n",
              "      <td>255410.0</td>\n",
              "      <td>Nuevo con etiqueta</td>\n",
              "      <td>Unknown</td>\n",
              "      <td>624.0</td>\n",
              "    </tr>\n",
              "  </tbody>\n",
              "</table>\n",
              "</div>"
            ],
            "text/plain": [
              "   id_recibo  producto_id  pedido_id  cantidad  valor_unitario  valor_total  \\\n",
              "0          1        41518        341         3             260          780   \n",
              "\n",
              "  ciudad  costo_envio  latitud  longitud  vendedor_id fecha_compra  anio  \\\n",
              "0  Bahia        156.0 -12.9704  -38.5124            6   2019-01-05  2019   \n",
              "\n",
              "       mes  num_mes            producto tipo_producto            marca  \\\n",
              "0  January        1  Calca Jeans Basica         Calca  Banana Republic   \n",
              "\n",
              "        sku           condicion nombre_vendedor  ingreso_neto  \n",
              "0  255410.0  Nuevo con etiqueta         Unknown         624.0  "
            ]
          },
          "execution_count": 165,
          "metadata": {},
          "output_type": "execute_result"
        }
      ],
      "source": [
        "df_final.head(1)"
      ]
    },
    {
      "cell_type": "code",
      "execution_count": 166,
      "metadata": {},
      "outputs": [
        {
          "data": {
            "text/html": [
              "<div>\n",
              "<style scoped>\n",
              "    .dataframe tbody tr th:only-of-type {\n",
              "        vertical-align: middle;\n",
              "    }\n",
              "\n",
              "    .dataframe tbody tr th {\n",
              "        vertical-align: top;\n",
              "    }\n",
              "\n",
              "    .dataframe thead th {\n",
              "        text-align: right;\n",
              "    }\n",
              "</style>\n",
              "<table border=\"1\" class=\"dataframe\">\n",
              "  <thead>\n",
              "    <tr style=\"text-align: right;\">\n",
              "      <th></th>\n",
              "      <th>nombre_vendedor</th>\n",
              "      <th>anio</th>\n",
              "      <th>ingreso_neto</th>\n",
              "    </tr>\n",
              "  </thead>\n",
              "  <tbody>\n",
              "    <tr>\n",
              "      <th>0</th>\n",
              "      <td>Nadia Oliveira</td>\n",
              "      <td>2021</td>\n",
              "      <td>810020.0</td>\n",
              "    </tr>\n",
              "    <tr>\n",
              "      <th>1</th>\n",
              "      <td>Ana Duarte</td>\n",
              "      <td>2021</td>\n",
              "      <td>547470.4</td>\n",
              "    </tr>\n",
              "    <tr>\n",
              "      <th>2</th>\n",
              "      <td>Paulo Calanca</td>\n",
              "      <td>2021</td>\n",
              "      <td>455401.6</td>\n",
              "    </tr>\n",
              "    <tr>\n",
              "      <th>3</th>\n",
              "      <td>Daniel Siqueira</td>\n",
              "      <td>2021</td>\n",
              "      <td>419702.4</td>\n",
              "    </tr>\n",
              "    <tr>\n",
              "      <th>4</th>\n",
              "      <td>Millena Pereira</td>\n",
              "      <td>2021</td>\n",
              "      <td>398896.0</td>\n",
              "    </tr>\n",
              "    <tr>\n",
              "      <th>5</th>\n",
              "      <td>Daniel Siqueira</td>\n",
              "      <td>2020</td>\n",
              "      <td>5266932.8</td>\n",
              "    </tr>\n",
              "    <tr>\n",
              "      <th>6</th>\n",
              "      <td>Ana Duarte</td>\n",
              "      <td>2020</td>\n",
              "      <td>5054009.6</td>\n",
              "    </tr>\n",
              "    <tr>\n",
              "      <th>7</th>\n",
              "      <td>Nadia Oliveira</td>\n",
              "      <td>2020</td>\n",
              "      <td>4046902.4</td>\n",
              "    </tr>\n",
              "    <tr>\n",
              "      <th>8</th>\n",
              "      <td>Millena Pereira</td>\n",
              "      <td>2020</td>\n",
              "      <td>3804385.6</td>\n",
              "    </tr>\n",
              "    <tr>\n",
              "      <th>9</th>\n",
              "      <td>Paulo Calanca</td>\n",
              "      <td>2020</td>\n",
              "      <td>3609530.4</td>\n",
              "    </tr>\n",
              "    <tr>\n",
              "      <th>10</th>\n",
              "      <td>Paulo Calanca</td>\n",
              "      <td>2019</td>\n",
              "      <td>3702835.2</td>\n",
              "    </tr>\n",
              "    <tr>\n",
              "      <th>11</th>\n",
              "      <td>Nadia Oliveira</td>\n",
              "      <td>2019</td>\n",
              "      <td>2296986.4</td>\n",
              "    </tr>\n",
              "    <tr>\n",
              "      <th>12</th>\n",
              "      <td>Ana Duarte</td>\n",
              "      <td>2019</td>\n",
              "      <td>2154261.6</td>\n",
              "    </tr>\n",
              "    <tr>\n",
              "      <th>13</th>\n",
              "      <td>Millena Pereira</td>\n",
              "      <td>2019</td>\n",
              "      <td>2054682.4</td>\n",
              "    </tr>\n",
              "    <tr>\n",
              "      <th>14</th>\n",
              "      <td>Daniel Siqueira</td>\n",
              "      <td>2019</td>\n",
              "      <td>2020503.2</td>\n",
              "    </tr>\n",
              "    <tr>\n",
              "      <th>15</th>\n",
              "      <td>Unknown</td>\n",
              "      <td>2019</td>\n",
              "      <td>624.0</td>\n",
              "    </tr>\n",
              "  </tbody>\n",
              "</table>\n",
              "</div>"
            ],
            "text/plain": [
              "    nombre_vendedor  anio  ingreso_neto\n",
              "0    Nadia Oliveira  2021      810020.0\n",
              "1        Ana Duarte  2021      547470.4\n",
              "2     Paulo Calanca  2021      455401.6\n",
              "3   Daniel Siqueira  2021      419702.4\n",
              "4   Millena Pereira  2021      398896.0\n",
              "5   Daniel Siqueira  2020     5266932.8\n",
              "6        Ana Duarte  2020     5054009.6\n",
              "7    Nadia Oliveira  2020     4046902.4\n",
              "8   Millena Pereira  2020     3804385.6\n",
              "9     Paulo Calanca  2020     3609530.4\n",
              "10    Paulo Calanca  2019     3702835.2\n",
              "11   Nadia Oliveira  2019     2296986.4\n",
              "12       Ana Duarte  2019     2154261.6\n",
              "13  Millena Pereira  2019     2054682.4\n",
              "14  Daniel Siqueira  2019     2020503.2\n",
              "15          Unknown  2019         624.0"
            ]
          },
          "execution_count": 166,
          "metadata": {},
          "output_type": "execute_result"
        }
      ],
      "source": [
        "df_ingresos_x_vendedor = df_final.groupby(['nombre_vendedor','anio'])['ingreso_neto'].sum().sort_values(ascending=False).reset_index()\n",
        "df_ingresos_x_vendedor = df_ingresos_x_vendedor.sort_values(by=['anio', 'ingreso_neto'], ascending=False).reset_index(drop=True)\n",
        "df_ingresos_x_vendedor"
      ]
    },
    {
      "cell_type": "markdown",
      "metadata": {},
      "source": [
        "4. ¿Cuáles son las ciudades que proporcionan mayores ingresos netos?\n",
        "\n"
      ]
    },
    {
      "cell_type": "code",
      "execution_count": 167,
      "metadata": {},
      "outputs": [
        {
          "data": {
            "text/html": [
              "<div>\n",
              "<style scoped>\n",
              "    .dataframe tbody tr th:only-of-type {\n",
              "        vertical-align: middle;\n",
              "    }\n",
              "\n",
              "    .dataframe tbody tr th {\n",
              "        vertical-align: top;\n",
              "    }\n",
              "\n",
              "    .dataframe thead th {\n",
              "        text-align: right;\n",
              "    }\n",
              "</style>\n",
              "<table border=\"1\" class=\"dataframe\">\n",
              "  <thead>\n",
              "    <tr style=\"text-align: right;\">\n",
              "      <th></th>\n",
              "      <th>id_recibo</th>\n",
              "      <th>producto_id</th>\n",
              "      <th>pedido_id</th>\n",
              "      <th>cantidad</th>\n",
              "      <th>valor_unitario</th>\n",
              "      <th>valor_total</th>\n",
              "      <th>ciudad</th>\n",
              "      <th>costo_envio</th>\n",
              "      <th>latitud</th>\n",
              "      <th>longitud</th>\n",
              "      <th>vendedor_id</th>\n",
              "      <th>fecha_compra</th>\n",
              "      <th>anio</th>\n",
              "      <th>mes</th>\n",
              "      <th>num_mes</th>\n",
              "      <th>producto</th>\n",
              "      <th>tipo_producto</th>\n",
              "      <th>marca</th>\n",
              "      <th>sku</th>\n",
              "      <th>condicion</th>\n",
              "      <th>nombre_vendedor</th>\n",
              "      <th>ingreso_neto</th>\n",
              "    </tr>\n",
              "  </thead>\n",
              "  <tbody>\n",
              "    <tr>\n",
              "      <th>0</th>\n",
              "      <td>1</td>\n",
              "      <td>41518</td>\n",
              "      <td>341</td>\n",
              "      <td>3</td>\n",
              "      <td>260</td>\n",
              "      <td>780</td>\n",
              "      <td>Bahia</td>\n",
              "      <td>156.0</td>\n",
              "      <td>-12.9704</td>\n",
              "      <td>-38.5124</td>\n",
              "      <td>6</td>\n",
              "      <td>2019-01-05</td>\n",
              "      <td>2019</td>\n",
              "      <td>January</td>\n",
              "      <td>1</td>\n",
              "      <td>Calca Jeans Basica</td>\n",
              "      <td>Calca</td>\n",
              "      <td>Banana Republic</td>\n",
              "      <td>255410.0</td>\n",
              "      <td>Nuevo con etiqueta</td>\n",
              "      <td>Unknown</td>\n",
              "      <td>624.0</td>\n",
              "    </tr>\n",
              "    <tr>\n",
              "      <th>1</th>\n",
              "      <td>2</td>\n",
              "      <td>4307</td>\n",
              "      <td>1174</td>\n",
              "      <td>5</td>\n",
              "      <td>6175</td>\n",
              "      <td>30875</td>\n",
              "      <td>Rio de Janeiro</td>\n",
              "      <td>6175.0</td>\n",
              "      <td>-22.9068</td>\n",
              "      <td>-43.1729</td>\n",
              "      <td>3</td>\n",
              "      <td>2019-01-05</td>\n",
              "      <td>2019</td>\n",
              "      <td>January</td>\n",
              "      <td>1</td>\n",
              "      <td>Bolsa Intrecciato Caramelo</td>\n",
              "      <td>Bolsa</td>\n",
              "      <td>Bottega Veneta</td>\n",
              "      <td>301305.0</td>\n",
              "      <td>Usado</td>\n",
              "      <td>Nadia Oliveira</td>\n",
              "      <td>24700.0</td>\n",
              "    </tr>\n",
              "    <tr>\n",
              "      <th>2</th>\n",
              "      <td>3</td>\n",
              "      <td>22407</td>\n",
              "      <td>1399</td>\n",
              "      <td>3</td>\n",
              "      <td>200</td>\n",
              "      <td>600</td>\n",
              "      <td>Paraíba</td>\n",
              "      <td>120.0</td>\n",
              "      <td>-7.2398</td>\n",
              "      <td>-36.7819</td>\n",
              "      <td>1</td>\n",
              "      <td>2019-01-05</td>\n",
              "      <td>2019</td>\n",
              "      <td>January</td>\n",
              "      <td>1</td>\n",
              "      <td>Cropped Listras Florzinhas</td>\n",
              "      <td>Cropped</td>\n",
              "      <td>Topshop</td>\n",
              "      <td>327426.0</td>\n",
              "      <td>Usado</td>\n",
              "      <td>Ana Duarte</td>\n",
              "      <td>480.0</td>\n",
              "    </tr>\n",
              "  </tbody>\n",
              "</table>\n",
              "</div>"
            ],
            "text/plain": [
              "   id_recibo  producto_id  pedido_id  cantidad  valor_unitario  valor_total  \\\n",
              "0          1        41518        341         3             260          780   \n",
              "1          2         4307       1174         5            6175        30875   \n",
              "2          3        22407       1399         3             200          600   \n",
              "\n",
              "           ciudad  costo_envio  latitud  longitud  vendedor_id fecha_compra  \\\n",
              "0           Bahia        156.0 -12.9704  -38.5124            6   2019-01-05   \n",
              "1  Rio de Janeiro       6175.0 -22.9068  -43.1729            3   2019-01-05   \n",
              "2         Paraíba        120.0  -7.2398  -36.7819            1   2019-01-05   \n",
              "\n",
              "   anio      mes  num_mes                    producto tipo_producto  \\\n",
              "0  2019  January        1          Calca Jeans Basica         Calca   \n",
              "1  2019  January        1  Bolsa Intrecciato Caramelo         Bolsa   \n",
              "2  2019  January        1  Cropped Listras Florzinhas       Cropped   \n",
              "\n",
              "             marca       sku           condicion nombre_vendedor  ingreso_neto  \n",
              "0  Banana Republic  255410.0  Nuevo con etiqueta         Unknown         624.0  \n",
              "1   Bottega Veneta  301305.0               Usado  Nadia Oliveira       24700.0  \n",
              "2          Topshop  327426.0               Usado      Ana Duarte         480.0  "
            ]
          },
          "execution_count": 167,
          "metadata": {},
          "output_type": "execute_result"
        }
      ],
      "source": [
        "df_final.head(3)"
      ]
    },
    {
      "cell_type": "code",
      "execution_count": null,
      "metadata": {},
      "outputs": [],
      "source": []
    },
    {
      "cell_type": "code",
      "execution_count": 168,
      "metadata": {},
      "outputs": [
        {
          "data": {
            "text/html": [
              "<div>\n",
              "<style scoped>\n",
              "    .dataframe tbody tr th:only-of-type {\n",
              "        vertical-align: middle;\n",
              "    }\n",
              "\n",
              "    .dataframe tbody tr th {\n",
              "        vertical-align: top;\n",
              "    }\n",
              "\n",
              "    .dataframe thead th {\n",
              "        text-align: right;\n",
              "    }\n",
              "</style>\n",
              "<table border=\"1\" class=\"dataframe\">\n",
              "  <thead>\n",
              "    <tr style=\"text-align: right;\">\n",
              "      <th></th>\n",
              "      <th>ciudad</th>\n",
              "      <th>ingreso_neto</th>\n",
              "    </tr>\n",
              "  </thead>\n",
              "  <tbody>\n",
              "    <tr>\n",
              "      <th>0</th>\n",
              "      <td>Alagoas</td>\n",
              "      <td>1522016.0</td>\n",
              "    </tr>\n",
              "    <tr>\n",
              "      <th>1</th>\n",
              "      <td>Pernambuco</td>\n",
              "      <td>1509197.6</td>\n",
              "    </tr>\n",
              "    <tr>\n",
              "      <th>2</th>\n",
              "      <td>Santa Catarina</td>\n",
              "      <td>1476962.4</td>\n",
              "    </tr>\n",
              "    <tr>\n",
              "      <th>3</th>\n",
              "      <td>Amapá</td>\n",
              "      <td>1475737.6</td>\n",
              "    </tr>\n",
              "    <tr>\n",
              "      <th>4</th>\n",
              "      <td>Ceará</td>\n",
              "      <td>1468080.8</td>\n",
              "    </tr>\n",
              "  </tbody>\n",
              "</table>\n",
              "</div>"
            ],
            "text/plain": [
              "           ciudad  ingreso_neto\n",
              "0         Alagoas     1522016.0\n",
              "1      Pernambuco     1509197.6\n",
              "2  Santa Catarina     1476962.4\n",
              "3           Amapá     1475737.6\n",
              "4           Ceará     1468080.8"
            ]
          },
          "execution_count": 168,
          "metadata": {},
          "output_type": "execute_result"
        }
      ],
      "source": [
        "df_ciudades_ingresos_netos= df_final.groupby('ciudad')['ingreso_neto'].sum().sort_values(ascending=False).reset_index()\n",
        "df_ciudades_ingresos_netos.head(5)"
      ]
    },
    {
      "cell_type": "markdown",
      "metadata": {},
      "source": [
        "5. ¿Existe otro insight que puedas proporcionar? marca de ropa con mas ingresos netos"
      ]
    },
    {
      "cell_type": "code",
      "execution_count": 169,
      "metadata": {},
      "outputs": [
        {
          "data": {
            "text/html": [
              "<div>\n",
              "<style scoped>\n",
              "    .dataframe tbody tr th:only-of-type {\n",
              "        vertical-align: middle;\n",
              "    }\n",
              "\n",
              "    .dataframe tbody tr th {\n",
              "        vertical-align: top;\n",
              "    }\n",
              "\n",
              "    .dataframe thead th {\n",
              "        text-align: right;\n",
              "    }\n",
              "</style>\n",
              "<table border=\"1\" class=\"dataframe\">\n",
              "  <thead>\n",
              "    <tr style=\"text-align: right;\">\n",
              "      <th></th>\n",
              "      <th>marca</th>\n",
              "      <th>ingreso_neto</th>\n",
              "    </tr>\n",
              "  </thead>\n",
              "  <tbody>\n",
              "    <tr>\n",
              "      <th>0</th>\n",
              "      <td>Mixed</td>\n",
              "      <td>3671312.8</td>\n",
              "    </tr>\n",
              "    <tr>\n",
              "      <th>1</th>\n",
              "      <td>Christian Dior</td>\n",
              "      <td>2529200.0</td>\n",
              "    </tr>\n",
              "    <tr>\n",
              "      <th>2</th>\n",
              "      <td>Bottega Veneta</td>\n",
              "      <td>1773460.0</td>\n",
              "    </tr>\n",
              "    <tr>\n",
              "      <th>3</th>\n",
              "      <td>Christian Louboutin</td>\n",
              "      <td>1457040.0</td>\n",
              "    </tr>\n",
              "    <tr>\n",
              "      <th>4</th>\n",
              "      <td>Barbara Bela</td>\n",
              "      <td>1451520.0</td>\n",
              "    </tr>\n",
              "  </tbody>\n",
              "</table>\n",
              "</div>"
            ],
            "text/plain": [
              "                 marca  ingreso_neto\n",
              "0                Mixed     3671312.8\n",
              "1       Christian Dior     2529200.0\n",
              "2       Bottega Veneta     1773460.0\n",
              "3  Christian Louboutin     1457040.0\n",
              "4         Barbara Bela     1451520.0"
            ]
          },
          "execution_count": 169,
          "metadata": {},
          "output_type": "execute_result"
        }
      ],
      "source": [
        "df_marca_ropa_ingresos_netos = df_final.groupby('marca')['ingreso_neto'].sum().sort_values(ascending=False).reset_index()\n",
        "df_marca_ropa_ingresos_netos.head(5)"
      ]
    },
    {
      "cell_type": "markdown",
      "metadata": {},
      "source": [
        "6. Analisis del compórtamiento de ventas por temporada"
      ]
    },
    {
      "cell_type": "code",
      "execution_count": 170,
      "metadata": {},
      "outputs": [],
      "source": [
        "# se crea una funcion para segmetantar las temporadas\n",
        "def obtener_estacion(fecha):\n",
        "    if (fecha >= pd.to_datetime(f'{fecha.year}-12-21')) or (fecha < pd.to_datetime(f'{fecha.year}-03-21')):\n",
        "        return 'Verano'\n",
        "    elif (fecha >= pd.to_datetime(f'{fecha.year}-03-21')) and (fecha < pd.to_datetime(f'{fecha.year}-06-21')):\n",
        "        return 'Otoño'\n",
        "    elif (fecha >= pd.to_datetime(f'{fecha.year}-06-21')) and (fecha < pd.to_datetime(f'{fecha.year}-09-23')):\n",
        "        return 'Invierno'\n",
        "    else:\n",
        "        return 'Primavera'\n",
        "\n",
        "# Crear la nueva columna de estaciones\n",
        "df_final['estacion'] = df_final['fecha_compra'].apply(obtener_estacion)"
      ]
    },
    {
      "cell_type": "code",
      "execution_count": 171,
      "metadata": {},
      "outputs": [
        {
          "data": {
            "text/html": [
              "<div>\n",
              "<style scoped>\n",
              "    .dataframe tbody tr th:only-of-type {\n",
              "        vertical-align: middle;\n",
              "    }\n",
              "\n",
              "    .dataframe tbody tr th {\n",
              "        vertical-align: top;\n",
              "    }\n",
              "\n",
              "    .dataframe thead th {\n",
              "        text-align: right;\n",
              "    }\n",
              "</style>\n",
              "<table border=\"1\" class=\"dataframe\">\n",
              "  <thead>\n",
              "    <tr style=\"text-align: right;\">\n",
              "      <th></th>\n",
              "      <th>id_recibo</th>\n",
              "      <th>producto_id</th>\n",
              "      <th>pedido_id</th>\n",
              "      <th>cantidad</th>\n",
              "      <th>valor_unitario</th>\n",
              "      <th>valor_total</th>\n",
              "      <th>ciudad</th>\n",
              "      <th>costo_envio</th>\n",
              "      <th>latitud</th>\n",
              "      <th>longitud</th>\n",
              "      <th>vendedor_id</th>\n",
              "      <th>fecha_compra</th>\n",
              "      <th>anio</th>\n",
              "      <th>mes</th>\n",
              "      <th>num_mes</th>\n",
              "      <th>producto</th>\n",
              "      <th>tipo_producto</th>\n",
              "      <th>marca</th>\n",
              "      <th>sku</th>\n",
              "      <th>condicion</th>\n",
              "      <th>nombre_vendedor</th>\n",
              "      <th>ingreso_neto</th>\n",
              "      <th>estacion</th>\n",
              "    </tr>\n",
              "  </thead>\n",
              "  <tbody>\n",
              "    <tr>\n",
              "      <th>0</th>\n",
              "      <td>1</td>\n",
              "      <td>41518</td>\n",
              "      <td>341</td>\n",
              "      <td>3</td>\n",
              "      <td>260</td>\n",
              "      <td>780</td>\n",
              "      <td>Bahia</td>\n",
              "      <td>156.0</td>\n",
              "      <td>-12.9704</td>\n",
              "      <td>-38.5124</td>\n",
              "      <td>6</td>\n",
              "      <td>2019-01-05</td>\n",
              "      <td>2019</td>\n",
              "      <td>January</td>\n",
              "      <td>1</td>\n",
              "      <td>Calca Jeans Basica</td>\n",
              "      <td>Calca</td>\n",
              "      <td>Banana Republic</td>\n",
              "      <td>255410.0</td>\n",
              "      <td>Nuevo con etiqueta</td>\n",
              "      <td>Unknown</td>\n",
              "      <td>624.0</td>\n",
              "      <td>Verano</td>\n",
              "    </tr>\n",
              "  </tbody>\n",
              "</table>\n",
              "</div>"
            ],
            "text/plain": [
              "   id_recibo  producto_id  pedido_id  cantidad  valor_unitario  valor_total  \\\n",
              "0          1        41518        341         3             260          780   \n",
              "\n",
              "  ciudad  costo_envio  latitud  longitud  vendedor_id fecha_compra  anio  \\\n",
              "0  Bahia        156.0 -12.9704  -38.5124            6   2019-01-05  2019   \n",
              "\n",
              "       mes  num_mes            producto tipo_producto            marca  \\\n",
              "0  January        1  Calca Jeans Basica         Calca  Banana Republic   \n",
              "\n",
              "        sku           condicion nombre_vendedor  ingreso_neto estacion  \n",
              "0  255410.0  Nuevo con etiqueta         Unknown         624.0   Verano  "
            ]
          },
          "execution_count": 171,
          "metadata": {},
          "output_type": "execute_result"
        }
      ],
      "source": [
        "pd.set_option('display.max_columns', None)\n",
        "df_final.head(1)\n"
      ]
    },
    {
      "cell_type": "markdown",
      "metadata": {},
      "source": [
        "temporada del año con mas ingresos netos por año"
      ]
    },
    {
      "cell_type": "code",
      "execution_count": 172,
      "metadata": {},
      "outputs": [
        {
          "data": {
            "text/html": [
              "<div>\n",
              "<style scoped>\n",
              "    .dataframe tbody tr th:only-of-type {\n",
              "        vertical-align: middle;\n",
              "    }\n",
              "\n",
              "    .dataframe tbody tr th {\n",
              "        vertical-align: top;\n",
              "    }\n",
              "\n",
              "    .dataframe thead th {\n",
              "        text-align: right;\n",
              "    }\n",
              "</style>\n",
              "<table border=\"1\" class=\"dataframe\">\n",
              "  <thead>\n",
              "    <tr style=\"text-align: right;\">\n",
              "      <th></th>\n",
              "      <th>estacion</th>\n",
              "      <th>anio</th>\n",
              "      <th>ingreso_neto</th>\n",
              "    </tr>\n",
              "  </thead>\n",
              "  <tbody>\n",
              "    <tr>\n",
              "      <th>1</th>\n",
              "      <td>Invierno</td>\n",
              "      <td>2020</td>\n",
              "      <td>5299584.0</td>\n",
              "    </tr>\n",
              "    <tr>\n",
              "      <th>3</th>\n",
              "      <td>Otoño</td>\n",
              "      <td>2020</td>\n",
              "      <td>5056022.4</td>\n",
              "    </tr>\n",
              "    <tr>\n",
              "      <th>5</th>\n",
              "      <td>Primavera</td>\n",
              "      <td>2020</td>\n",
              "      <td>5618332.8</td>\n",
              "    </tr>\n",
              "    <tr>\n",
              "      <th>7</th>\n",
              "      <td>Verano</td>\n",
              "      <td>2020</td>\n",
              "      <td>5807821.6</td>\n",
              "    </tr>\n",
              "    <tr>\n",
              "      <th>0</th>\n",
              "      <td>Invierno</td>\n",
              "      <td>2019</td>\n",
              "      <td>3451633.6</td>\n",
              "    </tr>\n",
              "    <tr>\n",
              "      <th>2</th>\n",
              "      <td>Otoño</td>\n",
              "      <td>2019</td>\n",
              "      <td>2600541.6</td>\n",
              "    </tr>\n",
              "    <tr>\n",
              "      <th>4</th>\n",
              "      <td>Primavera</td>\n",
              "      <td>2019</td>\n",
              "      <td>4651532.8</td>\n",
              "    </tr>\n",
              "    <tr>\n",
              "      <th>6</th>\n",
              "      <td>Verano</td>\n",
              "      <td>2019</td>\n",
              "      <td>1526184.8</td>\n",
              "    </tr>\n",
              "  </tbody>\n",
              "</table>\n",
              "</div>"
            ],
            "text/plain": [
              "    estacion  anio  ingreso_neto\n",
              "1   Invierno  2020     5299584.0\n",
              "3      Otoño  2020     5056022.4\n",
              "5  Primavera  2020     5618332.8\n",
              "7     Verano  2020     5807821.6\n",
              "0   Invierno  2019     3451633.6\n",
              "2      Otoño  2019     2600541.6\n",
              "4  Primavera  2019     4651532.8\n",
              "6     Verano  2019     1526184.8"
            ]
          },
          "execution_count": 172,
          "metadata": {},
          "output_type": "execute_result"
        }
      ],
      "source": [
        "df_temporada= df_final[df_final['fecha_compra'].dt.year != 2021]\n",
        "df_temporada = df_temporada.groupby(['estacion', 'anio'])[ 'ingreso_neto'].sum().reset_index()\n",
        "df_temporada.sort_values(by= 'anio', ascending=False, inplace=True)\n",
        "df_temporada"
      ]
    },
    {
      "cell_type": "code",
      "execution_count": 173,
      "metadata": {},
      "outputs": [
        {
          "data": {
            "image/png": "[encoded data removed]",
            "text/plain": [
              "<Figure size 1000x600 with 1 Axes>"
            ]
          },
          "metadata": {},
          "output_type": "display_data"
        }
      ],
      "source": [
        "# Crear el gráfico de barras agrupadas\n",
        "plt.figure(figsize=(10, 6))  # Tamaño de la figura\n",
        "\n",
        "# Ancho de las barras y posiciones\n",
        "bar_width = 0.35\n",
        "r1 = range(len(df_temporada['estacion'].unique()))\n",
        "r2 = [x + bar_width for x in r1]\n",
        "\n",
        "# Barras para cada año\n",
        "plt.bar(r1, df_temporada[df_temporada['anio'] == 2019]['ingreso_neto'], color='skyblue', width=bar_width, edgecolor='white', label='2019')\n",
        "plt.bar(r2, df_temporada[df_temporada['anio'] == 2020]['ingreso_neto'], color='salmon', width=bar_width, edgecolor='white', label='2020')\n",
        "\n",
        "# Personalizar el gráfico\n",
        "plt.xlabel('Estación', fontsize=12, fontweight='bold')\n",
        "plt.ylabel('Ingreso Neto', fontsize=12, fontweight='bold')\n",
        "plt.title('Comparación de Ingresos Netos por Estación y Año', fontsize=14, fontweight='bold')\n",
        "plt.xticks([r + bar_width/2 for r in range(len(df_temporada['estacion'].unique()))], df_temporada['estacion'].unique(), rotation=45)\n",
        "plt.legend()\n",
        "plt.grid(axis='y', alpha=0.99)"
      ]
    },
    {
      "cell_type": "markdown",
      "metadata": {},
      "source": [
        "7. Productos mas vendidos por estacion del año"
      ]
    },
    {
      "cell_type": "code",
      "execution_count": 174,
      "metadata": {},
      "outputs": [
        {
          "data": {
            "text/html": [
              "<div>\n",
              "<style scoped>\n",
              "    .dataframe tbody tr th:only-of-type {\n",
              "        vertical-align: middle;\n",
              "    }\n",
              "\n",
              "    .dataframe tbody tr th {\n",
              "        vertical-align: top;\n",
              "    }\n",
              "\n",
              "    .dataframe thead th {\n",
              "        text-align: right;\n",
              "    }\n",
              "</style>\n",
              "<table border=\"1\" class=\"dataframe\">\n",
              "  <thead>\n",
              "    <tr style=\"text-align: right;\">\n",
              "      <th></th>\n",
              "      <th>tipo_producto</th>\n",
              "      <th>estacion</th>\n",
              "      <th>cantidad</th>\n",
              "    </tr>\n",
              "  </thead>\n",
              "  <tbody>\n",
              "    <tr>\n",
              "      <th>154</th>\n",
              "      <td>Vestido</td>\n",
              "      <td>Primavera</td>\n",
              "      <td>5383</td>\n",
              "    </tr>\n",
              "    <tr>\n",
              "      <th>152</th>\n",
              "      <td>Vestido</td>\n",
              "      <td>Invierno</td>\n",
              "      <td>4220</td>\n",
              "    </tr>\n",
              "    <tr>\n",
              "      <th>153</th>\n",
              "      <td>Vestido</td>\n",
              "      <td>Otoño</td>\n",
              "      <td>3764</td>\n",
              "    </tr>\n",
              "    <tr>\n",
              "      <th>155</th>\n",
              "      <td>Vestido</td>\n",
              "      <td>Verano</td>\n",
              "      <td>3726</td>\n",
              "    </tr>\n",
              "  </tbody>\n",
              "</table>\n",
              "</div>"
            ],
            "text/plain": [
              "    tipo_producto   estacion  cantidad\n",
              "154       Vestido  Primavera      5383\n",
              "152       Vestido   Invierno      4220\n",
              "153       Vestido      Otoño      3764\n",
              "155       Vestido     Verano      3726"
            ]
          },
          "execution_count": 174,
          "metadata": {},
          "output_type": "execute_result"
        }
      ],
      "source": [
        "df_temp_producto = df_final[df_final['fecha_compra'].dt.year != 2021]\n",
        "df_temp_producto = df_temp_producto.groupby(['tipo_producto', 'estacion'])['cantidad'].sum().reset_index()\n",
        "df_temp_producto.sort_values(by='cantidad', ascending=False, inplace = True)\n",
        "df_temp_producto.head(4)"
      ]
    },
    {
      "cell_type": "code",
      "execution_count": 175,
      "metadata": {},
      "outputs": [],
      "source": [
        "df_final.to_csv(\"D:/bootcamp_experience/visualizacion/df_final.csv\", index=False)"
      ]
    }
  ],
  "metadata": {
    "colab": {
      "collapsed_sections": [
        "_Vevz6MGruh_",
        "1jUHpF5smRvN",
        "MdQXCMggsM0m",
        "k7Byq_JO83FR"
      ],
      "provenance": []
    },
    "kernelspec": {
      "display_name": "Python 3",
      "name": "python3"
    },
    "language_info": {
      "codemirror_mode": {
        "name": "ipython",
        "version": 3
      },
      "file_extension": ".py",
      "mimetype": "text/x-python",
      "name": "python",
      "nbconvert_exporter": "python",
      "pygments_lexer": "ipython3",
      "version": "3.12.1"
    }
  },
  "nbformat": 4,
  "nbformat_minor": 0
}
